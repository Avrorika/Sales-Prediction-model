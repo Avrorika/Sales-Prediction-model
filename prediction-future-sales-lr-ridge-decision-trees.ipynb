{
 "cells": [
  {
   "cell_type": "markdown",
   "id": "1a932621",
   "metadata": {
    "id": "RByj-K7V7RuA",
    "papermill": {
     "duration": 0.063565,
     "end_time": "2022-02-16T08:14:59.656698",
     "exception": false,
     "start_time": "2022-02-16T08:14:59.593133",
     "status": "completed"
    },
    "tags": []
   },
   "source": [
    "# PREDICTING FUTURE SALES"
   ]
  },
  {
   "cell_type": "markdown",
   "id": "d6e02dec",
   "metadata": {
    "id": "1GLdFD5v7RuH",
    "papermill": {
     "duration": 0.0627,
     "end_time": "2022-02-16T08:14:59.782671",
     "exception": false,
     "start_time": "2022-02-16T08:14:59.719971",
     "status": "completed"
    },
    "tags": []
   },
   "source": [
    "Общие библиотеки"
   ]
  },
  {
   "cell_type": "code",
   "execution_count": 1,
   "id": "897976d5",
   "metadata": {
    "execution": {
     "iopub.execute_input": "2022-02-16T08:14:59.915593Z",
     "iopub.status.busy": "2022-02-16T08:14:59.914898Z",
     "iopub.status.idle": "2022-02-16T08:15:01.007708Z",
     "shell.execute_reply": "2022-02-16T08:15:01.006924Z"
    },
    "executionInfo": {
     "elapsed": 345,
     "status": "ok",
     "timestamp": 1642437351900,
     "user": {
      "displayName": "Андрей Качнов",
      "photoUrl": "https://lh3.googleusercontent.com/a/default-user=s64",
      "userId": "18101914706036263360"
     },
     "user_tz": -180
    },
    "id": "1ugi9_bT7RuI",
    "papermill": {
     "duration": 1.163118,
     "end_time": "2022-02-16T08:15:01.007880",
     "exception": false,
     "start_time": "2022-02-16T08:14:59.844762",
     "status": "completed"
    },
    "tags": []
   },
   "outputs": [],
   "source": [
    "import pandas as pd                                      \n",
    "import numpy as np                    \n",
    "from scipy import optimize, stats \n",
    "import os\n",
    "\n",
    "# visualisation libraries\n",
    "import matplotlib.pyplot as plt                      \n",
    "import seaborn as sns                "
   ]
  },
  {
   "cell_type": "code",
   "execution_count": 2,
   "id": "4b66f58b",
   "metadata": {
    "execution": {
     "iopub.execute_input": "2022-02-16T08:15:01.139561Z",
     "iopub.status.busy": "2022-02-16T08:15:01.138758Z",
     "iopub.status.idle": "2022-02-16T08:15:11.747591Z",
     "shell.execute_reply": "2022-02-16T08:15:11.746664Z"
    },
    "executionInfo": {
     "elapsed": 12318,
     "status": "ok",
     "timestamp": 1642437364542,
     "user": {
      "displayName": "Андрей Качнов",
      "photoUrl": "https://lh3.googleusercontent.com/a/default-user=s64",
      "userId": "18101914706036263360"
     },
     "user_tz": -180
    },
    "id": "s-zRoem97Vc7",
    "outputId": "147ffaf2-6851-47fc-e698-29dfd62985c9",
    "papermill": {
     "duration": 10.676363,
     "end_time": "2022-02-16T08:15:11.747742",
     "exception": false,
     "start_time": "2022-02-16T08:15:01.071379",
     "status": "completed"
    },
    "tags": []
   },
   "outputs": [
    {
     "name": "stdout",
     "output_type": "stream",
     "text": [
      "Requirement already satisfied: catboost in /opt/conda/lib/python3.7/site-packages (1.0.4)\r\n",
      "Requirement already satisfied: matplotlib in /opt/conda/lib/python3.7/site-packages (from catboost) (3.5.1)\r\n",
      "Requirement already satisfied: scipy in /opt/conda/lib/python3.7/site-packages (from catboost) (1.7.3)\r\n",
      "Requirement already satisfied: six in /opt/conda/lib/python3.7/site-packages (from catboost) (1.16.0)\r\n",
      "Requirement already satisfied: pandas>=0.24.0 in /opt/conda/lib/python3.7/site-packages (from catboost) (1.3.5)\r\n",
      "Requirement already satisfied: graphviz in /opt/conda/lib/python3.7/site-packages (from catboost) (0.8.4)\r\n",
      "Requirement already satisfied: plotly in /opt/conda/lib/python3.7/site-packages (from catboost) (5.5.0)\r\n",
      "Requirement already satisfied: numpy>=1.16.0 in /opt/conda/lib/python3.7/site-packages (from catboost) (1.20.3)\r\n",
      "Requirement already satisfied: python-dateutil>=2.7.3 in /opt/conda/lib/python3.7/site-packages (from pandas>=0.24.0->catboost) (2.8.0)\r\n",
      "Requirement already satisfied: pytz>=2017.3 in /opt/conda/lib/python3.7/site-packages (from pandas>=0.24.0->catboost) (2021.3)\r\n",
      "Requirement already satisfied: packaging>=20.0 in /opt/conda/lib/python3.7/site-packages (from matplotlib->catboost) (21.3)\r\n",
      "Requirement already satisfied: fonttools>=4.22.0 in /opt/conda/lib/python3.7/site-packages (from matplotlib->catboost) (4.28.4)\r\n",
      "Requirement already satisfied: cycler>=0.10 in /opt/conda/lib/python3.7/site-packages (from matplotlib->catboost) (0.11.0)\r\n",
      "Requirement already satisfied: pyparsing>=2.2.1 in /opt/conda/lib/python3.7/site-packages (from matplotlib->catboost) (3.0.6)\r\n",
      "Requirement already satisfied: kiwisolver>=1.0.1 in /opt/conda/lib/python3.7/site-packages (from matplotlib->catboost) (1.3.2)\r\n",
      "Requirement already satisfied: pillow>=6.2.0 in /opt/conda/lib/python3.7/site-packages (from matplotlib->catboost) (8.2.0)\r\n",
      "Requirement already satisfied: tenacity>=6.2.0 in /opt/conda/lib/python3.7/site-packages (from plotly->catboost) (8.0.1)\r\n",
      "\u001b[33mWARNING: Running pip as the 'root' user can result in broken permissions and conflicting behaviour with the system package manager. It is recommended to use a virtual environment instead: https://pip.pypa.io/warnings/venv\u001b[0m\r\n"
     ]
    }
   ],
   "source": [
    "!pip install catboost"
   ]
  },
  {
   "cell_type": "code",
   "execution_count": 3,
   "id": "3ee11c2e",
   "metadata": {
    "execution": {
     "iopub.execute_input": "2022-02-16T08:15:11.882226Z",
     "iopub.status.busy": "2022-02-16T08:15:11.881535Z",
     "iopub.status.idle": "2022-02-16T08:15:18.056506Z",
     "shell.execute_reply": "2022-02-16T08:15:18.055872Z"
    },
    "executionInfo": {
     "elapsed": 2887,
     "status": "ok",
     "timestamp": 1642437367419,
     "user": {
      "displayName": "Андрей Качнов",
      "photoUrl": "https://lh3.googleusercontent.com/a/default-user=s64",
      "userId": "18101914706036263360"
     },
     "user_tz": -180
    },
    "id": "W9kiVN3t7RuK",
    "papermill": {
     "duration": 6.244175,
     "end_time": "2022-02-16T08:15:18.056672",
     "exception": false,
     "start_time": "2022-02-16T08:15:11.812497",
     "status": "completed"
    },
    "tags": []
   },
   "outputs": [],
   "source": [
    "from sklearn.model_selection import RandomizedSearchCV, GridSearchCV\n",
    "from tensorflow.keras.models import Sequential\n",
    "from tensorflow.keras.layers import LSTM, Dense, Flatten, Dropout\n",
    "from tensorflow.keras.layers import LeakyReLU, PReLU, ELU\n",
    "\n",
    "import catboost as cb\n",
    "from catboost import CatBoostRegressor"
   ]
  },
  {
   "cell_type": "code",
   "execution_count": 4,
   "id": "3edeebc0",
   "metadata": {
    "execution": {
     "iopub.execute_input": "2022-02-16T08:15:18.192452Z",
     "iopub.status.busy": "2022-02-16T08:15:18.191520Z",
     "iopub.status.idle": "2022-02-16T08:15:18.378146Z",
     "shell.execute_reply": "2022-02-16T08:15:18.377358Z"
    },
    "executionInfo": {
     "elapsed": 414,
     "status": "ok",
     "timestamp": 1642437367812,
     "user": {
      "displayName": "Андрей Качнов",
      "photoUrl": "https://lh3.googleusercontent.com/a/default-user=s64",
      "userId": "18101914706036263360"
     },
     "user_tz": -180
    },
    "id": "Cqw4v5Pme-jv",
    "papermill": {
     "duration": 0.257468,
     "end_time": "2022-02-16T08:15:18.378409",
     "exception": false,
     "start_time": "2022-02-16T08:15:18.120941",
     "status": "completed"
    },
    "tags": []
   },
   "outputs": [],
   "source": [
    "from sklearn.preprocessing import StandardScaler\n",
    "from sklearn.linear_model import Lasso\n",
    "from sklearn.linear_model import Ridge\n",
    "\n",
    "from sklearn.tree import DecisionTreeRegressor\n",
    "from sklearn.linear_model import LinearRegression, Ridge\n",
    "from sklearn.ensemble import RandomForestRegressor\n",
    "from sklearn.preprocessing import StandardScaler, MinMaxScaler\n",
    "from sklearn.preprocessing import LabelEncoder, OneHotEncoder\n",
    "from sklearn.model_selection import train_test_split, StratifiedKFold, KFold\n",
    "\n",
    "import matplotlib.pyplot as plt"
   ]
  },
  {
   "cell_type": "code",
   "execution_count": 5,
   "id": "19060a02",
   "metadata": {
    "execution": {
     "iopub.execute_input": "2022-02-16T08:15:18.511090Z",
     "iopub.status.busy": "2022-02-16T08:15:18.510118Z",
     "iopub.status.idle": "2022-02-16T08:15:18.513104Z",
     "shell.execute_reply": "2022-02-16T08:15:18.512558Z"
    },
    "executionInfo": {
     "elapsed": 5,
     "status": "ok",
     "timestamp": 1642437367812,
     "user": {
      "displayName": "Андрей Качнов",
      "photoUrl": "https://lh3.googleusercontent.com/a/default-user=s64",
      "userId": "18101914706036263360"
     },
     "user_tz": -180
    },
    "id": "KuxjetcI15A0",
    "papermill": {
     "duration": 0.071232,
     "end_time": "2022-02-16T08:15:18.513237",
     "exception": false,
     "start_time": "2022-02-16T08:15:18.442005",
     "status": "completed"
    },
    "tags": []
   },
   "outputs": [],
   "source": [
    "from sklearn.metrics import accuracy_score\n",
    "from sklearn.metrics import mean_squared_error\n",
    "from sklearn.metrics import r2_score\n",
    "from sklearn.metrics import mean_absolute_error"
   ]
  },
  {
   "cell_type": "code",
   "execution_count": 6,
   "id": "4cd9680e",
   "metadata": {
    "execution": {
     "iopub.execute_input": "2022-02-16T08:15:18.645923Z",
     "iopub.status.busy": "2022-02-16T08:15:18.645064Z",
     "iopub.status.idle": "2022-02-16T08:15:18.648173Z",
     "shell.execute_reply": "2022-02-16T08:15:18.647557Z"
    },
    "executionInfo": {
     "elapsed": 6,
     "status": "ok",
     "timestamp": 1642437367813,
     "user": {
      "displayName": "Андрей Качнов",
      "photoUrl": "https://lh3.googleusercontent.com/a/default-user=s64",
      "userId": "18101914706036263360"
     },
     "user_tz": -180
    },
    "id": "leiaNSvPodzB",
    "papermill": {
     "duration": 0.071346,
     "end_time": "2022-02-16T08:15:18.648329",
     "exception": false,
     "start_time": "2022-02-16T08:15:18.576983",
     "status": "completed"
    },
    "tags": []
   },
   "outputs": [],
   "source": [
    "import time"
   ]
  },
  {
   "cell_type": "code",
   "execution_count": 7,
   "id": "5446c1fc",
   "metadata": {
    "execution": {
     "iopub.execute_input": "2022-02-16T08:15:18.782801Z",
     "iopub.status.busy": "2022-02-16T08:15:18.781946Z",
     "iopub.status.idle": "2022-02-16T08:15:19.155713Z",
     "shell.execute_reply": "2022-02-16T08:15:19.154964Z"
    },
    "executionInfo": {
     "elapsed": 1626,
     "status": "ok",
     "timestamp": 1642437369434,
     "user": {
      "displayName": "Андрей Качнов",
      "photoUrl": "https://lh3.googleusercontent.com/a/default-user=s64",
      "userId": "18101914706036263360"
     },
     "user_tz": -180
    },
    "id": "luJ9IjOB7RuL",
    "papermill": {
     "duration": 0.443846,
     "end_time": "2022-02-16T08:15:19.156021",
     "exception": true,
     "start_time": "2022-02-16T08:15:18.712175",
     "status": "failed"
    },
    "tags": []
   },
   "outputs": [
    {
     "ename": "FileNotFoundError",
     "evalue": "[Errno 2] No such file or directory: 'sales_train.csv'",
     "output_type": "error",
     "traceback": [
      "\u001b[0;31m---------------------------------------------------------------------------\u001b[0m",
      "\u001b[0;31mFileNotFoundError\u001b[0m                         Traceback (most recent call last)",
      "\u001b[0;32m/tmp/ipykernel_19/2816821990.py\u001b[0m in \u001b[0;36m<module>\u001b[0;34m\u001b[0m\n\u001b[0;32m----> 1\u001b[0;31m \u001b[0mdf_train\u001b[0m \u001b[0;34m=\u001b[0m \u001b[0mpd\u001b[0m\u001b[0;34m.\u001b[0m\u001b[0mread_csv\u001b[0m\u001b[0;34m(\u001b[0m\u001b[0;34m'sales_train.csv'\u001b[0m\u001b[0;34m)\u001b[0m\u001b[0;34m\u001b[0m\u001b[0;34m\u001b[0m\u001b[0m\n\u001b[0m\u001b[1;32m      2\u001b[0m \u001b[0mdf_shops\u001b[0m \u001b[0;34m=\u001b[0m \u001b[0mpd\u001b[0m\u001b[0;34m.\u001b[0m\u001b[0mread_csv\u001b[0m\u001b[0;34m(\u001b[0m\u001b[0;34m'shops.csv'\u001b[0m\u001b[0;34m)\u001b[0m\u001b[0;34m\u001b[0m\u001b[0;34m\u001b[0m\u001b[0m\n\u001b[1;32m      3\u001b[0m \u001b[0mdf_items\u001b[0m \u001b[0;34m=\u001b[0m \u001b[0mpd\u001b[0m\u001b[0;34m.\u001b[0m\u001b[0mread_csv\u001b[0m\u001b[0;34m(\u001b[0m\u001b[0;34m'items.csv'\u001b[0m\u001b[0;34m)\u001b[0m\u001b[0;34m\u001b[0m\u001b[0;34m\u001b[0m\u001b[0m\n\u001b[1;32m      4\u001b[0m \u001b[0mdf_item_categories\u001b[0m \u001b[0;34m=\u001b[0m \u001b[0mpd\u001b[0m\u001b[0;34m.\u001b[0m\u001b[0mread_csv\u001b[0m\u001b[0;34m(\u001b[0m\u001b[0;34m'item_categories.csv'\u001b[0m\u001b[0;34m)\u001b[0m\u001b[0;34m\u001b[0m\u001b[0;34m\u001b[0m\u001b[0m\n\u001b[1;32m      5\u001b[0m \u001b[0mdf_test\u001b[0m \u001b[0;34m=\u001b[0m \u001b[0mpd\u001b[0m\u001b[0;34m.\u001b[0m\u001b[0mread_csv\u001b[0m\u001b[0;34m(\u001b[0m\u001b[0;34m'test.csv'\u001b[0m\u001b[0;34m)\u001b[0m\u001b[0;34m\u001b[0m\u001b[0;34m\u001b[0m\u001b[0m\n",
      "\u001b[0;32m/opt/conda/lib/python3.7/site-packages/pandas/util/_decorators.py\u001b[0m in \u001b[0;36mwrapper\u001b[0;34m(*args, **kwargs)\u001b[0m\n\u001b[1;32m    309\u001b[0m                     \u001b[0mstacklevel\u001b[0m\u001b[0;34m=\u001b[0m\u001b[0mstacklevel\u001b[0m\u001b[0;34m,\u001b[0m\u001b[0;34m\u001b[0m\u001b[0;34m\u001b[0m\u001b[0m\n\u001b[1;32m    310\u001b[0m                 )\n\u001b[0;32m--> 311\u001b[0;31m             \u001b[0;32mreturn\u001b[0m \u001b[0mfunc\u001b[0m\u001b[0;34m(\u001b[0m\u001b[0;34m*\u001b[0m\u001b[0margs\u001b[0m\u001b[0;34m,\u001b[0m \u001b[0;34m**\u001b[0m\u001b[0mkwargs\u001b[0m\u001b[0;34m)\u001b[0m\u001b[0;34m\u001b[0m\u001b[0;34m\u001b[0m\u001b[0m\n\u001b[0m\u001b[1;32m    312\u001b[0m \u001b[0;34m\u001b[0m\u001b[0m\n\u001b[1;32m    313\u001b[0m         \u001b[0;32mreturn\u001b[0m \u001b[0mwrapper\u001b[0m\u001b[0;34m\u001b[0m\u001b[0;34m\u001b[0m\u001b[0m\n",
      "\u001b[0;32m/opt/conda/lib/python3.7/site-packages/pandas/io/parsers/readers.py\u001b[0m in \u001b[0;36mread_csv\u001b[0;34m(filepath_or_buffer, sep, delimiter, header, names, index_col, usecols, squeeze, prefix, mangle_dupe_cols, dtype, engine, converters, true_values, false_values, skipinitialspace, skiprows, skipfooter, nrows, na_values, keep_default_na, na_filter, verbose, skip_blank_lines, parse_dates, infer_datetime_format, keep_date_col, date_parser, dayfirst, cache_dates, iterator, chunksize, compression, thousands, decimal, lineterminator, quotechar, quoting, doublequote, escapechar, comment, encoding, encoding_errors, dialect, error_bad_lines, warn_bad_lines, on_bad_lines, delim_whitespace, low_memory, memory_map, float_precision, storage_options)\u001b[0m\n\u001b[1;32m    584\u001b[0m     \u001b[0mkwds\u001b[0m\u001b[0;34m.\u001b[0m\u001b[0mupdate\u001b[0m\u001b[0;34m(\u001b[0m\u001b[0mkwds_defaults\u001b[0m\u001b[0;34m)\u001b[0m\u001b[0;34m\u001b[0m\u001b[0;34m\u001b[0m\u001b[0m\n\u001b[1;32m    585\u001b[0m \u001b[0;34m\u001b[0m\u001b[0m\n\u001b[0;32m--> 586\u001b[0;31m     \u001b[0;32mreturn\u001b[0m \u001b[0m_read\u001b[0m\u001b[0;34m(\u001b[0m\u001b[0mfilepath_or_buffer\u001b[0m\u001b[0;34m,\u001b[0m \u001b[0mkwds\u001b[0m\u001b[0;34m)\u001b[0m\u001b[0;34m\u001b[0m\u001b[0;34m\u001b[0m\u001b[0m\n\u001b[0m\u001b[1;32m    587\u001b[0m \u001b[0;34m\u001b[0m\u001b[0m\n\u001b[1;32m    588\u001b[0m \u001b[0;34m\u001b[0m\u001b[0m\n",
      "\u001b[0;32m/opt/conda/lib/python3.7/site-packages/pandas/io/parsers/readers.py\u001b[0m in \u001b[0;36m_read\u001b[0;34m(filepath_or_buffer, kwds)\u001b[0m\n\u001b[1;32m    480\u001b[0m \u001b[0;34m\u001b[0m\u001b[0m\n\u001b[1;32m    481\u001b[0m     \u001b[0;31m# Create the parser.\u001b[0m\u001b[0;34m\u001b[0m\u001b[0;34m\u001b[0m\u001b[0;34m\u001b[0m\u001b[0m\n\u001b[0;32m--> 482\u001b[0;31m     \u001b[0mparser\u001b[0m \u001b[0;34m=\u001b[0m \u001b[0mTextFileReader\u001b[0m\u001b[0;34m(\u001b[0m\u001b[0mfilepath_or_buffer\u001b[0m\u001b[0;34m,\u001b[0m \u001b[0;34m**\u001b[0m\u001b[0mkwds\u001b[0m\u001b[0;34m)\u001b[0m\u001b[0;34m\u001b[0m\u001b[0;34m\u001b[0m\u001b[0m\n\u001b[0m\u001b[1;32m    483\u001b[0m \u001b[0;34m\u001b[0m\u001b[0m\n\u001b[1;32m    484\u001b[0m     \u001b[0;32mif\u001b[0m \u001b[0mchunksize\u001b[0m \u001b[0;32mor\u001b[0m \u001b[0miterator\u001b[0m\u001b[0;34m:\u001b[0m\u001b[0;34m\u001b[0m\u001b[0;34m\u001b[0m\u001b[0m\n",
      "\u001b[0;32m/opt/conda/lib/python3.7/site-packages/pandas/io/parsers/readers.py\u001b[0m in \u001b[0;36m__init__\u001b[0;34m(self, f, engine, **kwds)\u001b[0m\n\u001b[1;32m    809\u001b[0m             \u001b[0mself\u001b[0m\u001b[0;34m.\u001b[0m\u001b[0moptions\u001b[0m\u001b[0;34m[\u001b[0m\u001b[0;34m\"has_index_names\"\u001b[0m\u001b[0;34m]\u001b[0m \u001b[0;34m=\u001b[0m \u001b[0mkwds\u001b[0m\u001b[0;34m[\u001b[0m\u001b[0;34m\"has_index_names\"\u001b[0m\u001b[0;34m]\u001b[0m\u001b[0;34m\u001b[0m\u001b[0;34m\u001b[0m\u001b[0m\n\u001b[1;32m    810\u001b[0m \u001b[0;34m\u001b[0m\u001b[0m\n\u001b[0;32m--> 811\u001b[0;31m         \u001b[0mself\u001b[0m\u001b[0;34m.\u001b[0m\u001b[0m_engine\u001b[0m \u001b[0;34m=\u001b[0m \u001b[0mself\u001b[0m\u001b[0;34m.\u001b[0m\u001b[0m_make_engine\u001b[0m\u001b[0;34m(\u001b[0m\u001b[0mself\u001b[0m\u001b[0;34m.\u001b[0m\u001b[0mengine\u001b[0m\u001b[0;34m)\u001b[0m\u001b[0;34m\u001b[0m\u001b[0;34m\u001b[0m\u001b[0m\n\u001b[0m\u001b[1;32m    812\u001b[0m \u001b[0;34m\u001b[0m\u001b[0m\n\u001b[1;32m    813\u001b[0m     \u001b[0;32mdef\u001b[0m \u001b[0mclose\u001b[0m\u001b[0;34m(\u001b[0m\u001b[0mself\u001b[0m\u001b[0;34m)\u001b[0m\u001b[0;34m:\u001b[0m\u001b[0;34m\u001b[0m\u001b[0;34m\u001b[0m\u001b[0m\n",
      "\u001b[0;32m/opt/conda/lib/python3.7/site-packages/pandas/io/parsers/readers.py\u001b[0m in \u001b[0;36m_make_engine\u001b[0;34m(self, engine)\u001b[0m\n\u001b[1;32m   1038\u001b[0m             )\n\u001b[1;32m   1039\u001b[0m         \u001b[0;31m# error: Too many arguments for \"ParserBase\"\u001b[0m\u001b[0;34m\u001b[0m\u001b[0;34m\u001b[0m\u001b[0;34m\u001b[0m\u001b[0m\n\u001b[0;32m-> 1040\u001b[0;31m         \u001b[0;32mreturn\u001b[0m \u001b[0mmapping\u001b[0m\u001b[0;34m[\u001b[0m\u001b[0mengine\u001b[0m\u001b[0;34m]\u001b[0m\u001b[0;34m(\u001b[0m\u001b[0mself\u001b[0m\u001b[0;34m.\u001b[0m\u001b[0mf\u001b[0m\u001b[0;34m,\u001b[0m \u001b[0;34m**\u001b[0m\u001b[0mself\u001b[0m\u001b[0;34m.\u001b[0m\u001b[0moptions\u001b[0m\u001b[0;34m)\u001b[0m  \u001b[0;31m# type: ignore[call-arg]\u001b[0m\u001b[0;34m\u001b[0m\u001b[0;34m\u001b[0m\u001b[0m\n\u001b[0m\u001b[1;32m   1041\u001b[0m \u001b[0;34m\u001b[0m\u001b[0m\n\u001b[1;32m   1042\u001b[0m     \u001b[0;32mdef\u001b[0m \u001b[0m_failover_to_python\u001b[0m\u001b[0;34m(\u001b[0m\u001b[0mself\u001b[0m\u001b[0;34m)\u001b[0m\u001b[0;34m:\u001b[0m\u001b[0;34m\u001b[0m\u001b[0;34m\u001b[0m\u001b[0m\n",
      "\u001b[0;32m/opt/conda/lib/python3.7/site-packages/pandas/io/parsers/c_parser_wrapper.py\u001b[0m in \u001b[0;36m__init__\u001b[0;34m(self, src, **kwds)\u001b[0m\n\u001b[1;32m     49\u001b[0m \u001b[0;34m\u001b[0m\u001b[0m\n\u001b[1;32m     50\u001b[0m         \u001b[0;31m# open handles\u001b[0m\u001b[0;34m\u001b[0m\u001b[0;34m\u001b[0m\u001b[0;34m\u001b[0m\u001b[0m\n\u001b[0;32m---> 51\u001b[0;31m         \u001b[0mself\u001b[0m\u001b[0;34m.\u001b[0m\u001b[0m_open_handles\u001b[0m\u001b[0;34m(\u001b[0m\u001b[0msrc\u001b[0m\u001b[0;34m,\u001b[0m \u001b[0mkwds\u001b[0m\u001b[0;34m)\u001b[0m\u001b[0;34m\u001b[0m\u001b[0;34m\u001b[0m\u001b[0m\n\u001b[0m\u001b[1;32m     52\u001b[0m         \u001b[0;32massert\u001b[0m \u001b[0mself\u001b[0m\u001b[0;34m.\u001b[0m\u001b[0mhandles\u001b[0m \u001b[0;32mis\u001b[0m \u001b[0;32mnot\u001b[0m \u001b[0;32mNone\u001b[0m\u001b[0;34m\u001b[0m\u001b[0;34m\u001b[0m\u001b[0m\n\u001b[1;32m     53\u001b[0m \u001b[0;34m\u001b[0m\u001b[0m\n",
      "\u001b[0;32m/opt/conda/lib/python3.7/site-packages/pandas/io/parsers/base_parser.py\u001b[0m in \u001b[0;36m_open_handles\u001b[0;34m(self, src, kwds)\u001b[0m\n\u001b[1;32m    227\u001b[0m             \u001b[0mmemory_map\u001b[0m\u001b[0;34m=\u001b[0m\u001b[0mkwds\u001b[0m\u001b[0;34m.\u001b[0m\u001b[0mget\u001b[0m\u001b[0;34m(\u001b[0m\u001b[0;34m\"memory_map\"\u001b[0m\u001b[0;34m,\u001b[0m \u001b[0;32mFalse\u001b[0m\u001b[0;34m)\u001b[0m\u001b[0;34m,\u001b[0m\u001b[0;34m\u001b[0m\u001b[0;34m\u001b[0m\u001b[0m\n\u001b[1;32m    228\u001b[0m             \u001b[0mstorage_options\u001b[0m\u001b[0;34m=\u001b[0m\u001b[0mkwds\u001b[0m\u001b[0;34m.\u001b[0m\u001b[0mget\u001b[0m\u001b[0;34m(\u001b[0m\u001b[0;34m\"storage_options\"\u001b[0m\u001b[0;34m,\u001b[0m \u001b[0;32mNone\u001b[0m\u001b[0;34m)\u001b[0m\u001b[0;34m,\u001b[0m\u001b[0;34m\u001b[0m\u001b[0;34m\u001b[0m\u001b[0m\n\u001b[0;32m--> 229\u001b[0;31m             \u001b[0merrors\u001b[0m\u001b[0;34m=\u001b[0m\u001b[0mkwds\u001b[0m\u001b[0;34m.\u001b[0m\u001b[0mget\u001b[0m\u001b[0;34m(\u001b[0m\u001b[0;34m\"encoding_errors\"\u001b[0m\u001b[0;34m,\u001b[0m \u001b[0;34m\"strict\"\u001b[0m\u001b[0;34m)\u001b[0m\u001b[0;34m,\u001b[0m\u001b[0;34m\u001b[0m\u001b[0;34m\u001b[0m\u001b[0m\n\u001b[0m\u001b[1;32m    230\u001b[0m         )\n\u001b[1;32m    231\u001b[0m \u001b[0;34m\u001b[0m\u001b[0m\n",
      "\u001b[0;32m/opt/conda/lib/python3.7/site-packages/pandas/io/common.py\u001b[0m in \u001b[0;36mget_handle\u001b[0;34m(path_or_buf, mode, encoding, compression, memory_map, is_text, errors, storage_options)\u001b[0m\n\u001b[1;32m    705\u001b[0m                 \u001b[0mencoding\u001b[0m\u001b[0;34m=\u001b[0m\u001b[0mioargs\u001b[0m\u001b[0;34m.\u001b[0m\u001b[0mencoding\u001b[0m\u001b[0;34m,\u001b[0m\u001b[0;34m\u001b[0m\u001b[0;34m\u001b[0m\u001b[0m\n\u001b[1;32m    706\u001b[0m                 \u001b[0merrors\u001b[0m\u001b[0;34m=\u001b[0m\u001b[0merrors\u001b[0m\u001b[0;34m,\u001b[0m\u001b[0;34m\u001b[0m\u001b[0;34m\u001b[0m\u001b[0m\n\u001b[0;32m--> 707\u001b[0;31m                 \u001b[0mnewline\u001b[0m\u001b[0;34m=\u001b[0m\u001b[0;34m\"\"\u001b[0m\u001b[0;34m,\u001b[0m\u001b[0;34m\u001b[0m\u001b[0;34m\u001b[0m\u001b[0m\n\u001b[0m\u001b[1;32m    708\u001b[0m             )\n\u001b[1;32m    709\u001b[0m         \u001b[0;32melse\u001b[0m\u001b[0;34m:\u001b[0m\u001b[0;34m\u001b[0m\u001b[0;34m\u001b[0m\u001b[0m\n",
      "\u001b[0;31mFileNotFoundError\u001b[0m: [Errno 2] No such file or directory: 'sales_train.csv'"
     ]
    }
   ],
   "source": [
    "df_train = pd.read_csv('sales_train.csv')\n",
    "df_shops = pd.read_csv('shops.csv')\n",
    "df_items = pd.read_csv('items.csv')\n",
    "df_item_categories = pd.read_csv('item_categories.csv')\n",
    "df_test = pd.read_csv('test.csv')"
   ]
  },
  {
   "cell_type": "markdown",
   "id": "e7f640c4",
   "metadata": {
    "id": "PLM3jIhzKObl",
    "papermill": {
     "duration": null,
     "end_time": null,
     "exception": null,
     "start_time": null,
     "status": "pending"
    },
    "tags": []
   },
   "source": [
    "**Prepare and clean dataset if nesessary**"
   ]
  },
  {
   "cell_type": "code",
   "execution_count": null,
   "id": "01b9136e",
   "metadata": {
    "executionInfo": {
     "elapsed": 20,
     "status": "ok",
     "timestamp": 1642437369435,
     "user": {
      "displayName": "Андрей Качнов",
      "photoUrl": "https://lh3.googleusercontent.com/a/default-user=s64",
      "userId": "18101914706036263360"
     },
     "user_tz": -180
    },
    "id": "_6peY_gz7RuL",
    "outputId": "b6968417-587f-4fb6-ccf6-8f5128e9afc4",
    "papermill": {
     "duration": null,
     "end_time": null,
     "exception": null,
     "start_time": null,
     "status": "pending"
    },
    "tags": []
   },
   "outputs": [],
   "source": [
    "df_train.head()"
   ]
  },
  {
   "cell_type": "code",
   "execution_count": null,
   "id": "120bc46c",
   "metadata": {
    "executionInfo": {
     "elapsed": 1128,
     "status": "ok",
     "timestamp": 1642437370548,
     "user": {
      "displayName": "Андрей Качнов",
      "photoUrl": "https://lh3.googleusercontent.com/a/default-user=s64",
      "userId": "18101914706036263360"
     },
     "user_tz": -180
    },
    "id": "V9R_gxce7RuM",
    "outputId": "b28ca1fa-9cd9-4ccf-c90b-d0cb0b1cbe32",
    "papermill": {
     "duration": null,
     "end_time": null,
     "exception": null,
     "start_time": null,
     "status": "pending"
    },
    "tags": []
   },
   "outputs": [],
   "source": [
    "df_train.describe()"
   ]
  },
  {
   "cell_type": "code",
   "execution_count": null,
   "id": "5b80fc6e",
   "metadata": {
    "executionInfo": {
     "elapsed": 57,
     "status": "ok",
     "timestamp": 1642437370558,
     "user": {
      "displayName": "Андрей Качнов",
      "photoUrl": "https://lh3.googleusercontent.com/a/default-user=s64",
      "userId": "18101914706036263360"
     },
     "user_tz": -180
    },
    "id": "3ROQ9hQ97RuN",
    "outputId": "25d6a85b-eb44-4cf2-b53c-ef72c1bbba9a",
    "papermill": {
     "duration": null,
     "end_time": null,
     "exception": null,
     "start_time": null,
     "status": "pending"
    },
    "tags": []
   },
   "outputs": [],
   "source": [
    "df_train.isnull().sum()"
   ]
  },
  {
   "cell_type": "code",
   "execution_count": null,
   "id": "950f921a",
   "metadata": {
    "executionInfo": {
     "elapsed": 44,
     "status": "ok",
     "timestamp": 1642437370558,
     "user": {
      "displayName": "Андрей Качнов",
      "photoUrl": "https://lh3.googleusercontent.com/a/default-user=s64",
      "userId": "18101914706036263360"
     },
     "user_tz": -180
    },
    "id": "p8y49Y5tDhE7",
    "outputId": "010ab3dc-f92b-4df7-f606-17b04a38ba4e",
    "papermill": {
     "duration": null,
     "end_time": null,
     "exception": null,
     "start_time": null,
     "status": "pending"
    },
    "tags": []
   },
   "outputs": [],
   "source": [
    "df_train.isna().sum()"
   ]
  },
  {
   "cell_type": "code",
   "execution_count": null,
   "id": "97d2aed6",
   "metadata": {
    "executionInfo": {
     "elapsed": 47,
     "status": "ok",
     "timestamp": 1642437370565,
     "user": {
      "displayName": "Андрей Качнов",
      "photoUrl": "https://lh3.googleusercontent.com/a/default-user=s64",
      "userId": "18101914706036263360"
     },
     "user_tz": -180
    },
    "id": "xpbigcjj7RuO",
    "outputId": "a6d33a3b-de8a-4190-d64b-dbca34b56378",
    "papermill": {
     "duration": null,
     "end_time": null,
     "exception": null,
     "start_time": null,
     "status": "pending"
    },
    "tags": []
   },
   "outputs": [],
   "source": [
    "df_train.value_counts"
   ]
  },
  {
   "cell_type": "code",
   "execution_count": null,
   "id": "4e2aeee7",
   "metadata": {
    "executionInfo": {
     "elapsed": 41,
     "status": "ok",
     "timestamp": 1642437370566,
     "user": {
      "displayName": "Андрей Качнов",
      "photoUrl": "https://lh3.googleusercontent.com/a/default-user=s64",
      "userId": "18101914706036263360"
     },
     "user_tz": -180
    },
    "id": "tQeX-SVc7RuR",
    "outputId": "6e1b3805-5b0a-48f4-ef0e-3da88d1b7c81",
    "papermill": {
     "duration": null,
     "end_time": null,
     "exception": null,
     "start_time": null,
     "status": "pending"
    },
    "tags": []
   },
   "outputs": [],
   "source": [
    "df_train.shape"
   ]
  },
  {
   "cell_type": "markdown",
   "id": "d10c5510",
   "metadata": {
    "id": "FJkDW2hVNkG3",
    "papermill": {
     "duration": null,
     "end_time": null,
     "exception": null,
     "start_time": null,
     "status": "pending"
    },
    "tags": []
   },
   "source": [
    "**Analysis of the dataset for anomalies: outliers, negative values, dependencies.**"
   ]
  },
  {
   "cell_type": "code",
   "execution_count": null,
   "id": "520ca249",
   "metadata": {
    "executionInfo": {
     "elapsed": 649,
     "status": "ok",
     "timestamp": 1642437371180,
     "user": {
      "displayName": "Андрей Качнов",
      "photoUrl": "https://lh3.googleusercontent.com/a/default-user=s64",
      "userId": "18101914706036263360"
     },
     "user_tz": -180
    },
    "id": "31Ebe6qjRdkU",
    "outputId": "c92662c4-d3f8-426c-c294-41ea4acf554d",
    "papermill": {
     "duration": null,
     "end_time": null,
     "exception": null,
     "start_time": null,
     "status": "pending"
    },
    "tags": []
   },
   "outputs": [],
   "source": [
    "df_train[\"item_price\"]"
   ]
  },
  {
   "cell_type": "code",
   "execution_count": null,
   "id": "a21784c9",
   "metadata": {
    "executionInfo": {
     "elapsed": 454,
     "status": "ok",
     "timestamp": 1642437371630,
     "user": {
      "displayName": "Андрей Качнов",
      "photoUrl": "https://lh3.googleusercontent.com/a/default-user=s64",
      "userId": "18101914706036263360"
     },
     "user_tz": -180
    },
    "id": "GkZAdJTZNskJ",
    "outputId": "2799d103-1af8-44f5-ada6-9c5575c58aa0",
    "papermill": {
     "duration": null,
     "end_time": null,
     "exception": null,
     "start_time": null,
     "status": "pending"
    },
    "tags": []
   },
   "outputs": [],
   "source": [
    "import matplotlib.pyplot as plt\n",
    "import numpy as np\n",
    "fig = plt.figure(figsize =(10, 7))\n",
    " \n",
    "# Creating plot\n",
    "plt.boxplot(df_train[\"item_price\"], vert = 0)\n",
    "\n",
    "# show plot\n",
    "plt.show()"
   ]
  },
  {
   "cell_type": "code",
   "execution_count": null,
   "id": "4b098a93",
   "metadata": {
    "executionInfo": {
     "elapsed": 58,
     "status": "ok",
     "timestamp": 1642437371631,
     "user": {
      "displayName": "Андрей Качнов",
      "photoUrl": "https://lh3.googleusercontent.com/a/default-user=s64",
      "userId": "18101914706036263360"
     },
     "user_tz": -180
    },
    "id": "rX_LG8JrZgBo",
    "outputId": "f564c3af-f381-42a6-8732-dd08a9200c32",
    "papermill": {
     "duration": null,
     "end_time": null,
     "exception": null,
     "start_time": null,
     "status": "pending"
    },
    "tags": []
   },
   "outputs": [],
   "source": [
    "fig = plt.figure(figsize =(10, 7))\n",
    "# Creating plot\n",
    "plt.boxplot(df_train[\"item_cnt_day\"], vert = 0)\n",
    "# show plot\n",
    "plt.show()"
   ]
  },
  {
   "cell_type": "code",
   "execution_count": null,
   "id": "a6e3b6e5",
   "metadata": {
    "executionInfo": {
     "elapsed": 784,
     "status": "ok",
     "timestamp": 1642437372359,
     "user": {
      "displayName": "Андрей Качнов",
      "photoUrl": "https://lh3.googleusercontent.com/a/default-user=s64",
      "userId": "18101914706036263360"
     },
     "user_tz": -180
    },
    "id": "HTzo-g6XU8Mt",
    "outputId": "cb12d532-58f7-4169-de0e-ca10e88e22d6",
    "papermill": {
     "duration": null,
     "end_time": null,
     "exception": null,
     "start_time": null,
     "status": "pending"
    },
    "tags": []
   },
   "outputs": [],
   "source": [
    "df_train.loc[df_train['item_price']>50000]"
   ]
  },
  {
   "cell_type": "code",
   "execution_count": null,
   "id": "2f516e9e",
   "metadata": {
    "executionInfo": {
     "elapsed": 14,
     "status": "ok",
     "timestamp": 1642437372361,
     "user": {
      "displayName": "Андрей Качнов",
      "photoUrl": "https://lh3.googleusercontent.com/a/default-user=s64",
      "userId": "18101914706036263360"
     },
     "user_tz": -180
    },
    "id": "tDG9PtOefUx7",
    "papermill": {
     "duration": null,
     "end_time": null,
     "exception": null,
     "start_time": null,
     "status": "pending"
    },
    "tags": []
   },
   "outputs": [],
   "source": [
    "df_train.drop(index=1163158, axis=0, inplace=True)"
   ]
  },
  {
   "cell_type": "code",
   "execution_count": null,
   "id": "b9acb565",
   "metadata": {
    "executionInfo": {
     "elapsed": 642,
     "status": "ok",
     "timestamp": 1642437372990,
     "user": {
      "displayName": "Андрей Качнов",
      "photoUrl": "https://lh3.googleusercontent.com/a/default-user=s64",
      "userId": "18101914706036263360"
     },
     "user_tz": -180
    },
    "id": "HK5KhwYhVMND",
    "outputId": "d60c5840-ec45-49b0-e43a-aeacf53685b4",
    "papermill": {
     "duration": null,
     "end_time": null,
     "exception": null,
     "start_time": null,
     "status": "pending"
    },
    "tags": []
   },
   "outputs": [],
   "source": [
    "df_sorted= df_train.sort_values(by=\"item_price\")\n",
    "df_sorted.tail(5)"
   ]
  },
  {
   "cell_type": "code",
   "execution_count": null,
   "id": "242e08ac",
   "metadata": {
    "executionInfo": {
     "elapsed": 91,
     "status": "ok",
     "timestamp": 1642437372991,
     "user": {
      "displayName": "Андрей Качнов",
      "photoUrl": "https://lh3.googleusercontent.com/a/default-user=s64",
      "userId": "18101914706036263360"
     },
     "user_tz": -180
    },
    "id": "KnZC6ZMxPxiJ",
    "outputId": "83ed9877-5b89-4b09-90d2-a294300fb03d",
    "papermill": {
     "duration": null,
     "end_time": null,
     "exception": null,
     "start_time": null,
     "status": "pending"
    },
    "tags": []
   },
   "outputs": [],
   "source": [
    "df_train.loc[df_train['item_price'] <0]"
   ]
  },
  {
   "cell_type": "code",
   "execution_count": null,
   "id": "73e3b2a1",
   "metadata": {
    "executionInfo": {
     "elapsed": 622,
     "status": "ok",
     "timestamp": 1642437373536,
     "user": {
      "displayName": "Андрей Качнов",
      "photoUrl": "https://lh3.googleusercontent.com/a/default-user=s64",
      "userId": "18101914706036263360"
     },
     "user_tz": -180
    },
    "id": "7iMi8vmyV3pz",
    "papermill": {
     "duration": null,
     "end_time": null,
     "exception": null,
     "start_time": null,
     "status": "pending"
    },
    "tags": []
   },
   "outputs": [],
   "source": [
    "df_train.drop(index=484683, axis=0, inplace=True)"
   ]
  },
  {
   "cell_type": "code",
   "execution_count": null,
   "id": "a6f7ba75",
   "metadata": {
    "executionInfo": {
     "elapsed": 10510,
     "status": "ok",
     "timestamp": 1642437384040,
     "user": {
      "displayName": "Андрей Качнов",
      "photoUrl": "https://lh3.googleusercontent.com/a/default-user=s64",
      "userId": "18101914706036263360"
     },
     "user_tz": -180
    },
    "id": "EbREfEG3TCOB",
    "outputId": "3c5bcacb-e70f-4e80-8795-8cfef511c29f",
    "papermill": {
     "duration": null,
     "end_time": null,
     "exception": null,
     "start_time": null,
     "status": "pending"
    },
    "tags": []
   },
   "outputs": [],
   "source": [
    "\n",
    "fig = plt.figure(figsize=(18,8))\n",
    "plt.scatter(df_train[\"item_price\"], df_train[\"item_cnt_day\"])"
   ]
  },
  {
   "cell_type": "code",
   "execution_count": null,
   "id": "ac51c6bb",
   "metadata": {
    "executionInfo": {
     "elapsed": 563,
     "status": "ok",
     "timestamp": 1642437384590,
     "user": {
      "displayName": "Андрей Качнов",
      "photoUrl": "https://lh3.googleusercontent.com/a/default-user=s64",
      "userId": "18101914706036263360"
     },
     "user_tz": -180
    },
    "id": "sQv2FI4-fZcS",
    "papermill": {
     "duration": null,
     "end_time": null,
     "exception": null,
     "start_time": null,
     "status": "pending"
    },
    "tags": []
   },
   "outputs": [],
   "source": [
    "df_train.drop(index=2909818, axis=0, inplace=True)"
   ]
  },
  {
   "cell_type": "code",
   "execution_count": null,
   "id": "d0cdf90b",
   "metadata": {
    "executionInfo": {
     "elapsed": 52,
     "status": "ok",
     "timestamp": 1642437384593,
     "user": {
      "displayName": "Андрей Качнов",
      "photoUrl": "https://lh3.googleusercontent.com/a/default-user=s64",
      "userId": "18101914706036263360"
     },
     "user_tz": -180
    },
    "id": "rx1-duJqZskh",
    "outputId": "cf85d148-61e2-49ea-dd86-84b02bc3fdaf",
    "papermill": {
     "duration": null,
     "end_time": null,
     "exception": null,
     "start_time": null,
     "status": "pending"
    },
    "tags": []
   },
   "outputs": [],
   "source": [
    "df_train.loc[df_train['item_cnt_day']<0]"
   ]
  },
  {
   "cell_type": "code",
   "execution_count": null,
   "id": "b82238b3",
   "metadata": {
    "executionInfo": {
     "elapsed": 52,
     "status": "ok",
     "timestamp": 1642437384595,
     "user": {
      "displayName": "Андрей Качнов",
      "photoUrl": "https://lh3.googleusercontent.com/a/default-user=s64",
      "userId": "18101914706036263360"
     },
     "user_tz": -180
    },
    "id": "2Vhc50LIZ2yd",
    "outputId": "82c0eecd-42ec-404a-81f7-83d79ff7fe89",
    "papermill": {
     "duration": null,
     "end_time": null,
     "exception": null,
     "start_time": null,
     "status": "pending"
    },
    "tags": []
   },
   "outputs": [],
   "source": [
    "df_train.loc[df_train['item_cnt_day']>800]"
   ]
  },
  {
   "cell_type": "markdown",
   "id": "39a78275",
   "metadata": {
    "id": "Pv5POh6iKlzN",
    "papermill": {
     "duration": null,
     "end_time": null,
     "exception": null,
     "start_time": null,
     "status": "pending"
    },
    "tags": []
   },
   "source": [
    "**Check for empty and Nan values and clean if nesessary**\n"
   ]
  },
  {
   "cell_type": "code",
   "execution_count": null,
   "id": "acdb5c02",
   "metadata": {
    "executionInfo": {
     "elapsed": 51,
     "status": "ok",
     "timestamp": 1642437384595,
     "user": {
      "displayName": "Андрей Качнов",
      "photoUrl": "https://lh3.googleusercontent.com/a/default-user=s64",
      "userId": "18101914706036263360"
     },
     "user_tz": -180
    },
    "id": "ZRHwahzxLCwx",
    "outputId": "4fe7bf8b-9068-4207-a455-94a0f938f83f",
    "papermill": {
     "duration": null,
     "end_time": null,
     "exception": null,
     "start_time": null,
     "status": "pending"
    },
    "tags": []
   },
   "outputs": [],
   "source": [
    "df_test.shape"
   ]
  },
  {
   "cell_type": "code",
   "execution_count": null,
   "id": "13cab159",
   "metadata": {
    "executionInfo": {
     "elapsed": 50,
     "status": "ok",
     "timestamp": 1642437384597,
     "user": {
      "displayName": "Андрей Качнов",
      "photoUrl": "https://lh3.googleusercontent.com/a/default-user=s64",
      "userId": "18101914706036263360"
     },
     "user_tz": -180
    },
    "id": "nQF7v06BKyeT",
    "outputId": "b2bf7481-b975-4b4e-d395-d65108885787",
    "papermill": {
     "duration": null,
     "end_time": null,
     "exception": null,
     "start_time": null,
     "status": "pending"
    },
    "tags": []
   },
   "outputs": [],
   "source": [
    "df_test.describe()"
   ]
  },
  {
   "cell_type": "code",
   "execution_count": null,
   "id": "906515d4",
   "metadata": {
    "executionInfo": {
     "elapsed": 48,
     "status": "ok",
     "timestamp": 1642437384598,
     "user": {
      "displayName": "Андрей Качнов",
      "photoUrl": "https://lh3.googleusercontent.com/a/default-user=s64",
      "userId": "18101914706036263360"
     },
     "user_tz": -180
    },
    "id": "J4hUhGXeK2qm",
    "outputId": "d6075123-4d2e-40da-f9d9-1707fe0e66b8",
    "papermill": {
     "duration": null,
     "end_time": null,
     "exception": null,
     "start_time": null,
     "status": "pending"
    },
    "tags": []
   },
   "outputs": [],
   "source": [
    "df_test.isnull().sum()"
   ]
  },
  {
   "cell_type": "code",
   "execution_count": null,
   "id": "d0646524",
   "metadata": {
    "executionInfo": {
     "elapsed": 45,
     "status": "ok",
     "timestamp": 1642437384599,
     "user": {
      "displayName": "Андрей Качнов",
      "photoUrl": "https://lh3.googleusercontent.com/a/default-user=s64",
      "userId": "18101914706036263360"
     },
     "user_tz": -180
    },
    "id": "gQiAUqADK_Xg",
    "outputId": "d6248d1e-bcbe-49cc-bd3d-d607f706e0c7",
    "papermill": {
     "duration": null,
     "end_time": null,
     "exception": null,
     "start_time": null,
     "status": "pending"
    },
    "tags": []
   },
   "outputs": [],
   "source": [
    "df_test.isna().sum()"
   ]
  },
  {
   "cell_type": "markdown",
   "id": "d498aa7f",
   "metadata": {
    "id": "EJMXhoxHL15z",
    "papermill": {
     "duration": null,
     "end_time": null,
     "exception": null,
     "start_time": null,
     "status": "pending"
    },
    "tags": []
   },
   "source": [
    "**Group and join tables**"
   ]
  },
  {
   "cell_type": "code",
   "execution_count": null,
   "id": "f6799c1b",
   "metadata": {
    "executionInfo": {
     "elapsed": 43,
     "status": "ok",
     "timestamp": 1642437384600,
     "user": {
      "displayName": "Андрей Качнов",
      "photoUrl": "https://lh3.googleusercontent.com/a/default-user=s64",
      "userId": "18101914706036263360"
     },
     "user_tz": -180
    },
    "id": "UqukB-9q7RuR",
    "papermill": {
     "duration": null,
     "end_time": null,
     "exception": null,
     "start_time": null,
     "status": "pending"
    },
    "tags": []
   },
   "outputs": [],
   "source": [
    "df_train.drop(['date_block_num','item_price'], axis=1, inplace=True)"
   ]
  },
  {
   "cell_type": "code",
   "execution_count": null,
   "id": "df975a26",
   "metadata": {
    "executionInfo": {
     "elapsed": 20362,
     "status": "ok",
     "timestamp": 1642437404920,
     "user": {
      "displayName": "Андрей Качнов",
      "photoUrl": "https://lh3.googleusercontent.com/a/default-user=s64",
      "userId": "18101914706036263360"
     },
     "user_tz": -180
    },
    "id": "UWWtxtvT7RuS",
    "outputId": "dcea76b7-6d69-4c3d-b784-b89b8e134dd0",
    "papermill": {
     "duration": null,
     "end_time": null,
     "exception": null,
     "start_time": null,
     "status": "pending"
    },
    "tags": []
   },
   "outputs": [],
   "source": [
    "df_train['date'] = pd.to_datetime(df_train['date'], dayfirst=True)\n",
    "df_train['date'] = df_train['date'].apply(lambda x: x.strftime('%Y-%m'))\n",
    "df_train.head(15)"
   ]
  },
  {
   "cell_type": "code",
   "execution_count": null,
   "id": "a29088e7",
   "metadata": {
    "executionInfo": {
     "elapsed": 3678,
     "status": "ok",
     "timestamp": 1642437408591,
     "user": {
      "displayName": "Андрей Качнов",
      "photoUrl": "https://lh3.googleusercontent.com/a/default-user=s64",
      "userId": "18101914706036263360"
     },
     "user_tz": -180
    },
    "id": "qRsC6pjv7RuT",
    "outputId": "dbf2bd75-f317-4107-ef15-2398b5c99a01",
    "papermill": {
     "duration": null,
     "end_time": null,
     "exception": null,
     "start_time": null,
     "status": "pending"
    },
    "tags": []
   },
   "outputs": [],
   "source": [
    "df = df_train.groupby(['date','shop_id','item_id']).sum()\n",
    "df = df.pivot_table(index=['shop_id','item_id'], columns='date', values='item_cnt_day', fill_value=0)\n",
    "df.reset_index(inplace=True)\n",
    "df"
   ]
  },
  {
   "cell_type": "code",
   "execution_count": null,
   "id": "be643a44",
   "metadata": {
    "executionInfo": {
     "elapsed": 460,
     "status": "ok",
     "timestamp": 1642437409035,
     "user": {
      "displayName": "Андрей Качнов",
      "photoUrl": "https://lh3.googleusercontent.com/a/default-user=s64",
      "userId": "18101914706036263360"
     },
     "user_tz": -180
    },
    "id": "dP0h1yce7RuU",
    "outputId": "744da5e1-0d0d-4173-9cdb-b24ef57946d4",
    "papermill": {
     "duration": null,
     "end_time": null,
     "exception": null,
     "start_time": null,
     "status": "pending"
    },
    "tags": []
   },
   "outputs": [],
   "source": [
    "df_test = pd.merge(df_test, df, on=['shop_id','item_id'], how='left')\n",
    "#df_test.drop(['ID', '2013-01', '2015-10'], axis=1, inplace=True)\n",
    "df_test.drop(['2013-01', '2015-10'], axis=1, inplace=True)\n",
    "id_col= df_test.pop(\"ID\")\n",
    "df_test = df_test.fillna(0)\n",
    "df_test"
   ]
  },
  {
   "cell_type": "code",
   "execution_count": null,
   "id": "928fabe5",
   "metadata": {
    "executionInfo": {
     "elapsed": 20,
     "status": "ok",
     "timestamp": 1642437409039,
     "user": {
      "displayName": "Андрей Качнов",
      "photoUrl": "https://lh3.googleusercontent.com/a/default-user=s64",
      "userId": "18101914706036263360"
     },
     "user_tz": -180
    },
    "id": "FmAMe77_7RuV",
    "outputId": "cfd91927-02b2-4b2b-866a-c1e7f0d3f960",
    "papermill": {
     "duration": null,
     "end_time": null,
     "exception": null,
     "start_time": null,
     "status": "pending"
    },
    "tags": []
   },
   "outputs": [],
   "source": [
    "Y_train = df['2015-10'].values\n",
    "X_train = df.drop(['2015-10', '2013-01'], axis = 1)\n",
    "X_test = df_test\n",
    "\n",
    "print(X_train.shape, Y_train.shape)\n",
    "print(X_test.shape)"
   ]
  },
  {
   "cell_type": "code",
   "execution_count": null,
   "id": "3a62101b",
   "metadata": {
    "executionInfo": {
     "elapsed": 394,
     "status": "ok",
     "timestamp": 1642437409420,
     "user": {
      "displayName": "Андрей Качнов",
      "photoUrl": "https://lh3.googleusercontent.com/a/default-user=s64",
      "userId": "18101914706036263360"
     },
     "user_tz": -180
    },
    "id": "uNxHhj6w9geQ",
    "outputId": "23521feb-a367-402e-e5e6-b6aa49309dd3",
    "papermill": {
     "duration": null,
     "end_time": null,
     "exception": null,
     "start_time": null,
     "status": "pending"
    },
    "tags": []
   },
   "outputs": [],
   "source": [
    "x_train, x_test, y_train, y_test = train_test_split( X_train, Y_train, test_size=0.2, random_state=101)\n",
    "# x_train, x_test, y_train, y_test = train_test_split( X_train, Y_train, test_size=0.2)\n",
    "print ('Train set:', x_train.shape,  y_train.shape)\n",
    "print ('Test set:', x_test.shape,  y_test.shape)"
   ]
  },
  {
   "cell_type": "code",
   "execution_count": null,
   "id": "ea2e97c6",
   "metadata": {
    "executionInfo": {
     "elapsed": 820,
     "status": "ok",
     "timestamp": 1642437410235,
     "user": {
      "displayName": "Андрей Качнов",
      "photoUrl": "https://lh3.googleusercontent.com/a/default-user=s64",
      "userId": "18101914706036263360"
     },
     "user_tz": -180
    },
    "id": "jGx5OKl-9kcl",
    "outputId": "01908625-b0c6-4414-cc73-d5bd30833052",
    "papermill": {
     "duration": null,
     "end_time": null,
     "exception": null,
     "start_time": null,
     "status": "pending"
    },
    "tags": []
   },
   "outputs": [],
   "source": [
    "LR = LinearRegression()\n",
    "LR.fit(x_train,y_train)\n",
    "\n",
    "print('Train set mse:', mean_squared_error(y_train, LR.predict(x_train)))\n",
    "print('Test set mse:', mean_squared_error(y_test, LR.predict(x_test)))\n",
    "print('Test set score:', LR.score(x_test,y_test))\n",
    "print('Train set score:', LR.score(x_train,y_train))"
   ]
  },
  {
   "cell_type": "code",
   "execution_count": null,
   "id": "09530d65",
   "metadata": {
    "executionInfo": {
     "elapsed": 637,
     "status": "ok",
     "timestamp": 1642437410869,
     "user": {
      "displayName": "Андрей Качнов",
      "photoUrl": "https://lh3.googleusercontent.com/a/default-user=s64",
      "userId": "18101914706036263360"
     },
     "user_tz": -180
    },
    "id": "CvosoPbL99wV",
    "outputId": "806b061c-f478-4c55-b3f6-d1c42cdfc891",
    "papermill": {
     "duration": null,
     "end_time": null,
     "exception": null,
     "start_time": null,
     "status": "pending"
    },
    "tags": []
   },
   "outputs": [],
   "source": [
    "fig, ax = plt.subplots(1, 2, figsize=(10,5))\n",
    "fig.suptitle('Метрики качества с очисткой', size =16)\n",
    "\n",
    "ax[0].bar(x=\"Train\",height = mean_squared_error(y_train, LR.predict(x_train)), color='y', alpha=0.5)\n",
    "ax[0].bar(x=\"Test\", height= mean_squared_error(y_test, LR.predict(x_test)), color='r', alpha=0.5)\n",
    "ax[0].set_title(\"MSE \")\n",
    "\n",
    "ax[1].bar(x=\"Train\", height= LR.score(x_test,y_test), color='y', alpha=0.5)\n",
    "ax[1].bar(x=\"Test\", height=LR.score(x_train,y_train), color='r', alpha=0.5)\n",
    "ax[1].set_title(\"Score\")\n",
    "\n",
    "plt.show()"
   ]
  },
  {
   "cell_type": "code",
   "execution_count": null,
   "id": "76231c88",
   "metadata": {
    "executionInfo": {
     "elapsed": 692,
     "status": "ok",
     "timestamp": 1642437411548,
     "user": {
      "displayName": "Андрей Качнов",
      "photoUrl": "https://lh3.googleusercontent.com/a/default-user=s64",
      "userId": "18101914706036263360"
     },
     "user_tz": -180
    },
    "id": "LvnskgnW-AVw",
    "outputId": "57c24d47-8f85-4f9d-8b46-fed78c108d1f",
    "papermill": {
     "duration": null,
     "end_time": null,
     "exception": null,
     "start_time": null,
     "status": "pending"
    },
    "tags": []
   },
   "outputs": [],
   "source": [
    "fig, ax = plt.subplots(1, 2, figsize=(10,5))\n",
    "fig.suptitle('Метрики качества', size =16)\n",
    "\n",
    "ax[0].bar(x=\"Train dirty\",height = 10.775086596878042, color='y', alpha=0.5)\n",
    "ax[0].bar(x=\"Train\",height = mean_squared_error(y_train, LR.predict(x_train)), color='r', alpha=0.5)\n",
    "ax[0].bar(x=\"Test dirty\", height= 7.349264129410241, color='y', alpha=0.5)\n",
    "ax[0].bar(x=\"Test\", height= mean_squared_error(y_test, LR.predict(x_test)), color='r', alpha=0.5)\n",
    "ax[0].set_title(\"MSE \")\n",
    "\n",
    "ax[1].bar(x=\"Train dirty\", height= -0.5296032297616697, color='y', alpha=0.5)\n",
    "ax[1].bar(x=\"Train\", height= LR.score(x_test,y_test), color='r', alpha=0.5)\n",
    "ax[1].bar(x=\"Test dirty\", height=0.42878283190980926, color='y', alpha=0.5)\n",
    "ax[1].bar(x=\"Test\", height=LR.score(x_train,y_train), color='r', alpha=0.5)\n",
    "ax[1].set_title(\"Score\")\n",
    "\n",
    "plt.show()"
   ]
  },
  {
   "cell_type": "code",
   "execution_count": null,
   "id": "96c5a432",
   "metadata": {
    "executionInfo": {
     "elapsed": 22,
     "status": "ok",
     "timestamp": 1642437411555,
     "user": {
      "displayName": "Андрей Качнов",
      "photoUrl": "https://lh3.googleusercontent.com/a/default-user=s64",
      "userId": "18101914706036263360"
     },
     "user_tz": -180
    },
    "id": "wyFeshCt9ozj",
    "papermill": {
     "duration": null,
     "end_time": null,
     "exception": null,
     "start_time": null,
     "status": "pending"
    },
    "tags": []
   },
   "outputs": [],
   "source": [
    "y_pred = LR.predict(X_test)"
   ]
  },
  {
   "cell_type": "code",
   "execution_count": null,
   "id": "75c00396",
   "metadata": {
    "executionInfo": {
     "elapsed": 21,
     "status": "ok",
     "timestamp": 1642437411557,
     "user": {
      "displayName": "Андрей Качнов",
      "photoUrl": "https://lh3.googleusercontent.com/a/default-user=s64",
      "userId": "18101914706036263360"
     },
     "user_tz": -180
    },
    "id": "YBzCx_I59siP",
    "outputId": "a102ec0a-4129-49ed-9463-2cdb46eba820",
    "papermill": {
     "duration": null,
     "end_time": null,
     "exception": null,
     "start_time": null,
     "status": "pending"
    },
    "tags": []
   },
   "outputs": [],
   "source": [
    "df_pred = pd.DataFrame({'ID': id_col, 'item_cnt_month': y_pred })\n",
    "\n",
    "df_pred"
   ]
  },
  {
   "cell_type": "code",
   "execution_count": null,
   "id": "08ecaa52",
   "metadata": {
    "executionInfo": {
     "elapsed": 442,
     "status": "ok",
     "timestamp": 1642437411980,
     "user": {
      "displayName": "Андрей Качнов",
      "photoUrl": "https://lh3.googleusercontent.com/a/default-user=s64",
      "userId": "18101914706036263360"
     },
     "user_tz": -180
    },
    "id": "LEPj8R169wF1",
    "papermill": {
     "duration": null,
     "end_time": null,
     "exception": null,
     "start_time": null,
     "status": "pending"
    },
    "tags": []
   },
   "outputs": [],
   "source": [
    "df_pred.to_csv('sample_submission.csv', index=False)"
   ]
  },
  {
   "cell_type": "markdown",
   "id": "6064364f",
   "metadata": {
    "id": "R2Vy0_51mzl7",
    "papermill": {
     "duration": null,
     "end_time": null,
     "exception": null,
     "start_time": null,
     "status": "pending"
    },
    "tags": []
   },
   "source": [
    "# <center>Analysis of data</center>"
   ]
  },
  {
   "cell_type": "code",
   "execution_count": null,
   "id": "8b367d68",
   "metadata": {
    "executionInfo": {
     "elapsed": 1358,
     "status": "ok",
     "timestamp": 1642437414024,
     "user": {
      "displayName": "Андрей Качнов",
      "photoUrl": "https://lh3.googleusercontent.com/a/default-user=s64",
      "userId": "18101914706036263360"
     },
     "user_tz": -180
    },
    "id": "MrKrWIEbnBPB",
    "papermill": {
     "duration": null,
     "end_time": null,
     "exception": null,
     "start_time": null,
     "status": "pending"
    },
    "tags": []
   },
   "outputs": [],
   "source": [
    "df_train = pd.read_csv('sales_train.csv')\n",
    "df_items = pd.read_csv('items.csv')\n",
    "df_test = pd.read_csv('test.csv')\n",
    "df_submission = pd.read_csv('sample_submission.csv')"
   ]
  },
  {
   "cell_type": "code",
   "execution_count": null,
   "id": "d572d955",
   "metadata": {
    "executionInfo": {
     "elapsed": 482,
     "status": "ok",
     "timestamp": 1642437414502,
     "user": {
      "displayName": "Андрей Качнов",
      "photoUrl": "https://lh3.googleusercontent.com/a/default-user=s64",
      "userId": "18101914706036263360"
     },
     "user_tz": -180
    },
    "id": "wJmV9CDgoLCV",
    "outputId": "c2dc8cd1-734e-4f4f-85ce-9cefed5be1a6",
    "papermill": {
     "duration": null,
     "end_time": null,
     "exception": null,
     "start_time": null,
     "status": "pending"
    },
    "tags": []
   },
   "outputs": [],
   "source": [
    "y = df_train.groupby(by=[\"date_block_num\"]).sum()['item_cnt_day']\n",
    "f, ax = plt.subplots(figsize=(8, 6))\n",
    "sns.distplot(y)"
   ]
  },
  {
   "cell_type": "code",
   "execution_count": null,
   "id": "2fd938d6",
   "metadata": {
    "executionInfo": {
     "elapsed": 698,
     "status": "ok",
     "timestamp": 1642437415188,
     "user": {
      "displayName": "Андрей Качнов",
      "photoUrl": "https://lh3.googleusercontent.com/a/default-user=s64",
      "userId": "18101914706036263360"
     },
     "user_tz": -180
    },
    "id": "GjB4sKdPoNXC",
    "outputId": "640a7a8f-3a2a-4c98-a704-448a9582ec58",
    "papermill": {
     "duration": null,
     "end_time": null,
     "exception": null,
     "start_time": null,
     "status": "pending"
    },
    "tags": []
   },
   "outputs": [],
   "source": [
    "fig = plt.figure(figsize = (10,6))\n",
    "res = stats.probplot(y, plot=plt)"
   ]
  },
  {
   "cell_type": "code",
   "execution_count": null,
   "id": "ff7657eb",
   "metadata": {
    "executionInfo": {
     "elapsed": 48,
     "status": "ok",
     "timestamp": 1642437415188,
     "user": {
      "displayName": "Андрей Качнов",
      "photoUrl": "https://lh3.googleusercontent.com/a/default-user=s64",
      "userId": "18101914706036263360"
     },
     "user_tz": -180
    },
    "id": "MZCDBkw6oQ_R",
    "outputId": "bdc54b11-27f8-49a9-d4cf-efe441a4922c",
    "papermill": {
     "duration": null,
     "end_time": null,
     "exception": null,
     "start_time": null,
     "status": "pending"
    },
    "tags": []
   },
   "outputs": [],
   "source": [
    "fig = plt.figure(figsize = (10,6))\n",
    "res = stats.probplot(np.log1p(y), plot=plt)"
   ]
  },
  {
   "cell_type": "code",
   "execution_count": null,
   "id": "f0b0ab01",
   "metadata": {
    "executionInfo": {
     "elapsed": 1266,
     "status": "ok",
     "timestamp": 1642437416408,
     "user": {
      "displayName": "Андрей Качнов",
      "photoUrl": "https://lh3.googleusercontent.com/a/default-user=s64",
      "userId": "18101914706036263360"
     },
     "user_tz": -180
    },
    "id": "sNf7Vdu1oULR",
    "outputId": "663f7e61-fcde-459d-ae13-b3fe8db7c5e6",
    "papermill": {
     "duration": null,
     "end_time": null,
     "exception": null,
     "start_time": null,
     "status": "pending"
    },
    "tags": []
   },
   "outputs": [],
   "source": [
    "f, ax = plt.subplots(figsize=(10, 7))\n",
    "highcorr_vars = (df_train.corr().item_cnt_day.sort_values(ascending=False)[:10]).index\n",
    "sns.heatmap(df_train[highcorr_vars].corr(), annot=True)\n",
    "plt.show()"
   ]
  },
  {
   "cell_type": "code",
   "execution_count": null,
   "id": "2aa5ddda",
   "metadata": {
    "executionInfo": {
     "elapsed": 9402,
     "status": "ok",
     "timestamp": 1642437425795,
     "user": {
      "displayName": "Андрей Качнов",
      "photoUrl": "https://lh3.googleusercontent.com/a/default-user=s64",
      "userId": "18101914706036263360"
     },
     "user_tz": -180
    },
    "id": "g3uYasXnoyGX",
    "outputId": "faa5247a-fd58-48af-b98a-efafc31287c7",
    "papermill": {
     "duration": null,
     "end_time": null,
     "exception": null,
     "start_time": null,
     "status": "pending"
    },
    "tags": []
   },
   "outputs": [],
   "source": [
    "from math import ceil\n",
    "\n",
    "grouped = pd.DataFrame(df_train.groupby(['shop_id', 'date_block_num'])['item_cnt_day'].sum().reset_index())\n",
    "fig, axes = plt.subplots(nrows=5, ncols=2, sharex=True, sharey=True, figsize=(16,20))\n",
    "num_graph = 10\n",
    "id_per_graph = ceil(grouped.shop_id.max() / num_graph)\n",
    "count = 0\n",
    "for i in range(5):\n",
    "    for j in range(2):\n",
    "        sns.pointplot(x='date_block_num', y='item_cnt_day', hue='shop_id', data=grouped[np.logical_and(count*id_per_graph <= grouped['shop_id'], grouped['shop_id'] < (count+1)*id_per_graph)], ax=axes[i][j])\n",
    "        count += 1"
   ]
  },
  {
   "cell_type": "markdown",
   "id": "e53d141f",
   "metadata": {
    "id": "JGMiYLnEbaPg",
    "papermill": {
     "duration": null,
     "end_time": null,
     "exception": null,
     "start_time": null,
     "status": "pending"
    },
    "tags": []
   },
   "source": [
    "### <center>Data normalization</center>"
   ]
  },
  {
   "cell_type": "code",
   "execution_count": null,
   "id": "4704b169",
   "metadata": {
    "executionInfo": {
     "elapsed": 709,
     "status": "ok",
     "timestamp": 1642437426463,
     "user": {
      "displayName": "Андрей Качнов",
      "photoUrl": "https://lh3.googleusercontent.com/a/default-user=s64",
      "userId": "18101914706036263360"
     },
     "user_tz": -180
    },
    "id": "NcaBWPUCbbk9",
    "papermill": {
     "duration": null,
     "end_time": null,
     "exception": null,
     "start_time": null,
     "status": "pending"
    },
    "tags": []
   },
   "outputs": [],
   "source": [
    "# нормировать данные\n",
    "\n",
    "scaler = StandardScaler()\n",
    "scaler.fit(x_train)\n",
    "scaler.fit(X_test)\n",
    "X_test_scaled = scaler.transform(X_test)\n",
    "x_train_scaled = scaler.transform(x_train)\n",
    "x_test_scaled = scaler.transform(x_test)"
   ]
  },
  {
   "cell_type": "code",
   "execution_count": null,
   "id": "735ee4fa",
   "metadata": {
    "executionInfo": {
     "elapsed": 123,
     "status": "ok",
     "timestamp": 1642437426465,
     "user": {
      "displayName": "Андрей Качнов",
      "photoUrl": "https://lh3.googleusercontent.com/a/default-user=s64",
      "userId": "18101914706036263360"
     },
     "user_tz": -180
    },
    "id": "pJZmOHncjjPK",
    "outputId": "2aa23439-5cfe-44b0-c4f2-791b79d0bf7c",
    "papermill": {
     "duration": null,
     "end_time": null,
     "exception": null,
     "start_time": null,
     "status": "pending"
    },
    "tags": []
   },
   "outputs": [],
   "source": [
    "start_time = time.time()\n",
    "LR = LinearRegression()\n",
    "LR.fit(x_test,y_test)\n",
    "LR_predict_test = LR.predict(x_test)\n",
    "LR_predict_train = LR.predict(x_train)\n",
    "LR_test_MAE = mean_absolute_error(y_test, LR_predict_test)\n",
    "LR_train_MAE = mean_absolute_error(y_train, LR_predict_train)\n",
    "LR_test_RMSE = mean_squared_error(y_test, LR_predict_test)\n",
    "LR_train_RMSE = mean_squared_error(y_train, LR_predict_train)\n",
    "LR_train_score = LR.score(x_train,y_train)\n",
    "LR_test_score = LR.score(x_test,y_test)\n",
    "\n",
    "\n",
    "print(f'Train set mse: {LR_train_RMSE:.4f}')\n",
    "print(f'Test set mse: {LR_test_RMSE:.4f}', )\n",
    "print()\n",
    "print(f'Test set score: {LR_test_score:.4f}', )\n",
    "print(f'Train set score: {LR_train_score:.4f}')\n",
    "print()\n",
    "print(f\"Test mean absolute error {LR_test_MAE:.4f}\")\n",
    "print(f\"Train mean absolute error {LR_train_MAE:.4f}\")\n",
    "print()\n",
    "LR_time = time.time() - start_time\n",
    "print(f\"Время выполнения расчетов {LR_time:.4f}\")"
   ]
  },
  {
   "cell_type": "code",
   "execution_count": null,
   "id": "9c7149c7",
   "metadata": {
    "executionInfo": {
     "elapsed": 119,
     "status": "ok",
     "timestamp": 1642437426466,
     "user": {
      "displayName": "Андрей Качнов",
      "photoUrl": "https://lh3.googleusercontent.com/a/default-user=s64",
      "userId": "18101914706036263360"
     },
     "user_tz": -180
    },
    "id": "oq5LxfrNwCwk",
    "outputId": "dd69a13b-e481-45d7-9496-bef1b2c6db56",
    "papermill": {
     "duration": null,
     "end_time": null,
     "exception": null,
     "start_time": null,
     "status": "pending"
    },
    "tags": []
   },
   "outputs": [],
   "source": [
    "y_pred = LR.predict(X_test)\n",
    "df_pred = pd.DataFrame({'ID': id_col, 'item_cnt_month': y_pred })\n",
    "df_pred"
   ]
  },
  {
   "cell_type": "code",
   "execution_count": null,
   "id": "9d37f170",
   "metadata": {
    "executionInfo": {
     "elapsed": 113,
     "status": "ok",
     "timestamp": 1642437426467,
     "user": {
      "displayName": "Андрей Качнов",
      "photoUrl": "https://lh3.googleusercontent.com/a/default-user=s64",
      "userId": "18101914706036263360"
     },
     "user_tz": -180
    },
    "id": "WKKnXM2BkNrr",
    "outputId": "8bb382e4-f6ad-47d2-9f26-0e472c1946b0",
    "papermill": {
     "duration": null,
     "end_time": null,
     "exception": null,
     "start_time": null,
     "status": "pending"
    },
    "tags": []
   },
   "outputs": [],
   "source": [
    "y_pred = LR.predict(X_test_scaled)\n",
    "df_pred_norm = pd.DataFrame({'ID': id_col, 'item_cnt_month': y_pred })\n",
    "df_pred_norm"
   ]
  },
  {
   "cell_type": "code",
   "execution_count": null,
   "id": "3b8f2671",
   "metadata": {
    "executionInfo": {
     "elapsed": 90,
     "status": "ok",
     "timestamp": 1642437426469,
     "user": {
      "displayName": "Андрей Качнов",
      "photoUrl": "https://lh3.googleusercontent.com/a/default-user=s64",
      "userId": "18101914706036263360"
     },
     "user_tz": -180
    },
    "id": "GerXntSEkQCY",
    "papermill": {
     "duration": null,
     "end_time": null,
     "exception": null,
     "start_time": null,
     "status": "pending"
    },
    "tags": []
   },
   "outputs": [],
   "source": [
    "# df_pred.to_csv('OUT_LR.csv', index=False)"
   ]
  },
  {
   "cell_type": "markdown",
   "id": "e48fc0e0",
   "metadata": {
    "id": "ozhLCvkfpRoD",
    "papermill": {
     "duration": null,
     "end_time": null,
     "exception": null,
     "start_time": null,
     "status": "pending"
    },
    "tags": []
   },
   "source": [
    "## <center>Decision tree</center>"
   ]
  },
  {
   "cell_type": "code",
   "execution_count": null,
   "id": "e82de8e8",
   "metadata": {
    "executionInfo": {
     "elapsed": 6066,
     "status": "ok",
     "timestamp": 1642437432445,
     "user": {
      "displayName": "Андрей Качнов",
      "photoUrl": "https://lh3.googleusercontent.com/a/default-user=s64",
      "userId": "18101914706036263360"
     },
     "user_tz": -180
    },
    "id": "zHOp7UX99sUX",
    "outputId": "5d8ccb1e-655a-4fea-d9b3-87eafd5fbb82",
    "papermill": {
     "duration": null,
     "end_time": null,
     "exception": null,
     "start_time": null,
     "status": "pending"
    },
    "tags": []
   },
   "outputs": [],
   "source": [
    "start_time = time.time()\n",
    "DT = DecisionTreeRegressor()\n",
    "DT.fit(x_train,y_train)\n",
    "\n",
    "DT_predict_test = DT.predict(x_test)\n",
    "DT_predict_train = DT.predict(x_train)\n",
    "DT_test_MAE = mean_absolute_error(y_test, DT_predict_test)\n",
    "DT_train_MAE = mean_absolute_error(y_train, DT_predict_train)\n",
    "DT_test_RMSE = mean_squared_error(y_test, DT_predict_test)\n",
    "DT_train_RMSE = mean_squared_error(y_train, DT_predict_train)\n",
    "DT_train_score = DT.score(x_train,y_train)\n",
    "DT_test_score = DT.score(x_test,y_test)\n",
    "\n",
    "print(f'Train set mse: {DT_train_RMSE:.4f}')\n",
    "print(f'Test set mse: {DT_test_RMSE:.4f}', )\n",
    "print()\n",
    "print(f'Test set score: {DT_test_score:.4f}', )\n",
    "print(f'Train set score: {DT_train_score:.4f}')\n",
    "print()\n",
    "print(f\"Test mean absolute error {DT_test_MAE:.4f}\")\n",
    "print(f\"Train mean absolute error {DT_train_MAE:.4f}\")\n",
    "print()\n",
    "DT_time = time.time() - start_time\n",
    "print(f\"Время выполнения расчетов {DT_time:.4f}\")"
   ]
  },
  {
   "cell_type": "code",
   "execution_count": null,
   "id": "169a9449",
   "metadata": {
    "executionInfo": {
     "elapsed": 587,
     "status": "ok",
     "timestamp": 1642437432992,
     "user": {
      "displayName": "Андрей Качнов",
      "photoUrl": "https://lh3.googleusercontent.com/a/default-user=s64",
      "userId": "18101914706036263360"
     },
     "user_tz": -180
    },
    "id": "xgOjMC84ppIu",
    "outputId": "e9e624be-1589-4311-e4d1-46ad076331a3",
    "papermill": {
     "duration": null,
     "end_time": null,
     "exception": null,
     "start_time": null,
     "status": "pending"
    },
    "tags": []
   },
   "outputs": [],
   "source": [
    "y_pred = DT.predict(X_test_scaled)\n",
    "df_pred = pd.DataFrame({'ID': id_col, 'item_cnt_month': y_pred })\n",
    "\n",
    "df_pred"
   ]
  },
  {
   "cell_type": "markdown",
   "id": "c9de47d0",
   "metadata": {
    "id": "hrlSVZsEbi1k",
    "papermill": {
     "duration": null,
     "end_time": null,
     "exception": null,
     "start_time": null,
     "status": "pending"
    },
    "tags": []
   },
   "source": [
    "## <center>1.1 Number of trees 5</center>\n",
    "<center>(n_estimators=5)</center>"
   ]
  },
  {
   "cell_type": "markdown",
   "id": "2d940ae6",
   "metadata": {
    "id": "V_mUkV0yblL7",
    "papermill": {
     "duration": null,
     "end_time": null,
     "exception": null,
     "start_time": null,
     "status": "pending"
    },
    "tags": []
   },
   "source": [
    "Without normalization"
   ]
  },
  {
   "cell_type": "code",
   "execution_count": null,
   "id": "a8295dda",
   "metadata": {
    "executionInfo": {
     "elapsed": 61747,
     "status": "ok",
     "timestamp": 1642437494722,
     "user": {
      "displayName": "Андрей Качнов",
      "photoUrl": "https://lh3.googleusercontent.com/a/default-user=s64",
      "userId": "18101914706036263360"
     },
     "user_tz": -180
    },
    "id": "au6d42Vpbn1X",
    "outputId": "cb9651dc-6fd7-440d-a0f8-58f625494a41",
    "papermill": {
     "duration": null,
     "end_time": null,
     "exception": null,
     "start_time": null,
     "status": "pending"
    },
    "tags": []
   },
   "outputs": [],
   "source": [
    "start_time = time.time()\n",
    "RF=RandomForestRegressor(n_estimators=15, random_state=42)\n",
    "RF.fit(x_train,y_train)\n",
    "\n",
    "RF_predict_test = RF.predict(x_test)\n",
    "RF_predict_train = RF.predict(x_train)\n",
    "RF_test_MAE = mean_absolute_error(y_test, RF_predict_test)\n",
    "RF_train_MAE = mean_absolute_error(y_train, RF_predict_train)\n",
    "RF_test_RMSE = mean_squared_error(y_test, RF_predict_test)\n",
    "RF_train_RMSE = mean_squared_error(y_train, RF_predict_train)\n",
    "RF_train_score = RF.score(x_train,y_train)\n",
    "RF_test_score = RF.score(x_test,y_test)\n",
    "\n",
    "print(f'Train set mse: {RF_train_RMSE:.4f}')\n",
    "print(f'Test set mse: {RF_test_RMSE:.4f}', )\n",
    "print()\n",
    "print(f'Test set score: {RF_test_score:.4f}', )\n",
    "print(f'Train set score: {RF_train_score:.4f}')\n",
    "print()\n",
    "print(f\"Test mean absolute error {RF_test_MAE:.4f}\")\n",
    "print(f\"Train mean absolute error {RF_train_MAE:.4f}\")\n",
    "print()\n",
    "RF_time = time.time() - start_time\n",
    "print(f\"Время выполнения расчетов {RF_time:.4f}\")\n"
   ]
  },
  {
   "cell_type": "code",
   "execution_count": null,
   "id": "cf5fc5ad",
   "metadata": {
    "executionInfo": {
     "elapsed": 851,
     "status": "ok",
     "timestamp": 1642437495556,
     "user": {
      "displayName": "Андрей Качнов",
      "photoUrl": "https://lh3.googleusercontent.com/a/default-user=s64",
      "userId": "18101914706036263360"
     },
     "user_tz": -180
    },
    "id": "w7znYH5Ef9wg",
    "papermill": {
     "duration": null,
     "end_time": null,
     "exception": null,
     "start_time": null,
     "status": "pending"
    },
    "tags": []
   },
   "outputs": [],
   "source": [
    "y_pred = RF.predict(X_test)\n",
    "df_pred = pd.DataFrame({'ID': id_col, 'item_cnt_month': y_pred })"
   ]
  },
  {
   "cell_type": "code",
   "execution_count": null,
   "id": "e05c953c",
   "metadata": {
    "executionInfo": {
     "elapsed": 32,
     "status": "ok",
     "timestamp": 1642437495563,
     "user": {
      "displayName": "Андрей Качнов",
      "photoUrl": "https://lh3.googleusercontent.com/a/default-user=s64",
      "userId": "18101914706036263360"
     },
     "user_tz": -180
    },
    "id": "OKUjn03fvoI-",
    "papermill": {
     "duration": null,
     "end_time": null,
     "exception": null,
     "start_time": null,
     "status": "pending"
    },
    "tags": []
   },
   "outputs": [],
   "source": [
    "# df_pred.to_csv('OUT_RF.csv', index=False)"
   ]
  },
  {
   "cell_type": "code",
   "execution_count": null,
   "id": "18a373cb",
   "metadata": {
    "executionInfo": {
     "elapsed": 32,
     "status": "ok",
     "timestamp": 1642437495564,
     "user": {
      "displayName": "Андрей Качнов",
      "photoUrl": "https://lh3.googleusercontent.com/a/default-user=s64",
      "userId": "18101914706036263360"
     },
     "user_tz": -180
    },
    "id": "tJm1mBzohlp1",
    "outputId": "b9e65987-b926-4b83-f3c5-ac9742789262",
    "papermill": {
     "duration": null,
     "end_time": null,
     "exception": null,
     "start_time": null,
     "status": "pending"
    },
    "tags": []
   },
   "outputs": [],
   "source": [
    "df_pred"
   ]
  },
  {
   "cell_type": "markdown",
   "id": "d5a9b883",
   "metadata": {
    "id": "sOIOa-ribx50",
    "papermill": {
     "duration": null,
     "end_time": null,
     "exception": null,
     "start_time": null,
     "status": "pending"
    },
    "tags": []
   },
   "source": [
    "## <center>Plots</center>"
   ]
  },
  {
   "cell_type": "markdown",
   "id": "14a9b453",
   "metadata": {
    "id": "PviAQ21Eb0AF",
    "papermill": {
     "duration": null,
     "end_time": null,
     "exception": null,
     "start_time": null,
     "status": "pending"
    },
    "tags": []
   },
   "source": [
    "MSE of test and train data according to the number of trees."
   ]
  },
  {
   "cell_type": "code",
   "execution_count": null,
   "id": "1a0be657",
   "metadata": {
    "executionInfo": {
     "elapsed": 618,
     "status": "ok",
     "timestamp": 1642437496158,
     "user": {
      "displayName": "Андрей Качнов",
      "photoUrl": "https://lh3.googleusercontent.com/a/default-user=s64",
      "userId": "18101914706036263360"
     },
     "user_tz": -180
    },
    "id": "y8V9QTpfb2Ew",
    "papermill": {
     "duration": null,
     "end_time": null,
     "exception": null,
     "start_time": null,
     "status": "pending"
    },
    "tags": []
   },
   "outputs": [],
   "source": [
    "N = [5, 10, 15, 20, 30, 50]\n",
    "MSE_train = [0.54, 0.43, 0.38, 0.44, 0.39, 0.38]\n",
    "MSE_test = [1.62, 1.37, 1.20, 1.19, 1.29, 1.35]\n",
    "MSE_train_scaled = [0.53, 0.43, 0.37, 0.44, 0.40, 0.38]\n",
    "MSE_test_scaled = [1.63, 1.38, 1.19, 1.47, 1.46, 1.26]"
   ]
  },
  {
   "cell_type": "code",
   "execution_count": null,
   "id": "2512ef81",
   "metadata": {
    "executionInfo": {
     "elapsed": 14,
     "status": "ok",
     "timestamp": 1642437496160,
     "user": {
      "displayName": "Андрей Качнов",
      "photoUrl": "https://lh3.googleusercontent.com/a/default-user=s64",
      "userId": "18101914706036263360"
     },
     "user_tz": -180
    },
    "id": "seINg2gab4K_",
    "outputId": "137b4b7f-01e9-4a79-f902-73a617542687",
    "papermill": {
     "duration": null,
     "end_time": null,
     "exception": null,
     "start_time": null,
     "status": "pending"
    },
    "tags": []
   },
   "outputs": [],
   "source": [
    "plt.figure(figsize=(10,8))\n",
    "plt.plot(N, MSE_train, label=\"Исходные данные\")\n",
    "plt.plot(N, MSE_train_scaled, label=\"Нормализованные данные\")\n",
    "plt.title('Среднеквадратическая ошибка \\n тренировочных данных')\n",
    "plt.ylabel(\"MSE\")\n",
    "plt.xlabel(\"Количество деревьев\")\n",
    "plt.legend()\n",
    "plt.show()"
   ]
  },
  {
   "cell_type": "code",
   "execution_count": null,
   "id": "ff7be0c3",
   "metadata": {
    "executionInfo": {
     "elapsed": 563,
     "status": "ok",
     "timestamp": 1642437496711,
     "user": {
      "displayName": "Андрей Качнов",
      "photoUrl": "https://lh3.googleusercontent.com/a/default-user=s64",
      "userId": "18101914706036263360"
     },
     "user_tz": -180
    },
    "id": "jcIGZpKab7Jg",
    "outputId": "b49033ab-9dfb-499d-e03b-00d302049509",
    "papermill": {
     "duration": null,
     "end_time": null,
     "exception": null,
     "start_time": null,
     "status": "pending"
    },
    "tags": []
   },
   "outputs": [],
   "source": [
    "plt.figure(figsize=(10,8))\n",
    "plt.plot(N, MSE_test, label=\"Исходные данные\")\n",
    "plt.plot(N, MSE_test_scaled, label=\"Нормализованные данные\")\n",
    "plt.title('Среднеквадратическая ошибка \\n тестовых данных')\n",
    "plt.ylabel(\"MSE\")\n",
    "plt.xlabel(\"Количество деревьев\")\n",
    "plt.legend()\n",
    "plt.show()"
   ]
  },
  {
   "cell_type": "markdown",
   "id": "bb0313e8",
   "metadata": {
    "id": "_CjhNmVzb_gV",
    "papermill": {
     "duration": null,
     "end_time": null,
     "exception": null,
     "start_time": null,
     "status": "pending"
    },
    "tags": []
   },
   "source": [
    "## <center> Lasso</center>"
   ]
  },
  {
   "cell_type": "code",
   "execution_count": null,
   "id": "83324901",
   "metadata": {
    "executionInfo": {
     "elapsed": 871,
     "status": "ok",
     "timestamp": 1642437497563,
     "user": {
      "displayName": "Андрей Качнов",
      "photoUrl": "https://lh3.googleusercontent.com/a/default-user=s64",
      "userId": "18101914706036263360"
     },
     "user_tz": -180
    },
    "id": "9qlXpY-KCMJS",
    "outputId": "5c7a9516-d30d-4a40-a69a-a906436f7254",
    "papermill": {
     "duration": null,
     "end_time": null,
     "exception": null,
     "start_time": null,
     "status": "pending"
    },
    "tags": []
   },
   "outputs": [],
   "source": [
    "start_time = time.time()\n",
    "lasso=Lasso(alpha=1.0)\n",
    "lasso.fit(x_train,y_train)\n",
    "\n",
    "lasso_predict_test = lasso.predict(x_test)\n",
    "lasso_predict_train = lasso.predict(x_train)\n",
    "lasso_test_MAE = mean_absolute_error(y_test, lasso_predict_test)\n",
    "lasso_train_MAE = mean_absolute_error(y_train, lasso_predict_train)\n",
    "lasso_test_RMSE = mean_squared_error(y_test, lasso_predict_test)\n",
    "lasso_train_RMSE = mean_squared_error(y_train, lasso_predict_train)\n",
    "lasso_train_score = lasso.score(x_train,y_train)\n",
    "lasso_test_score = lasso.score(x_test,y_test)\n",
    "\n",
    "print(f'Train set mse: {lasso_train_RMSE:.4f}')\n",
    "print(f'Test set mse: {lasso_test_RMSE:.4f}', )\n",
    "print()\n",
    "print(f'Test set score: {lasso_test_score:.4f}', )\n",
    "print(f'Train set score: {lasso_train_score:.4f}')\n",
    "print()\n",
    "print(f\"Test mean absolute error {lasso_test_MAE:.4f}\")\n",
    "print(f\"Train mean absolute error {lasso_train_MAE:.4f}\")\n",
    "print()\n",
    "lasso_time = time.time() - start_time\n",
    "print(f\"Время выполнения расчетов {lasso_time:.4f}\")"
   ]
  },
  {
   "cell_type": "code",
   "execution_count": null,
   "id": "4604799b",
   "metadata": {
    "executionInfo": {
     "elapsed": 267,
     "status": "ok",
     "timestamp": 1642437525407,
     "user": {
      "displayName": "Андрей Качнов",
      "photoUrl": "https://lh3.googleusercontent.com/a/default-user=s64",
      "userId": "18101914706036263360"
     },
     "user_tz": -180
    },
    "id": "ct_keD4ukqVx",
    "outputId": "063759ab-388d-441d-925e-407ad7138644",
    "papermill": {
     "duration": null,
     "end_time": null,
     "exception": null,
     "start_time": null,
     "status": "pending"
    },
    "tags": []
   },
   "outputs": [],
   "source": [
    "y_pred = lasso.predict(X_test)\n",
    "df_pred = pd.DataFrame({'ID': id_col, 'item_cnt_month': y_pred })\n",
    "\n",
    "df_pred"
   ]
  },
  {
   "cell_type": "markdown",
   "id": "80dafaf1",
   "metadata": {
    "id": "6KF-HvzBddWs",
    "papermill": {
     "duration": null,
     "end_time": null,
     "exception": null,
     "start_time": null,
     "status": "pending"
    },
    "tags": []
   },
   "source": [
    "## <center>Ridge regression</center>"
   ]
  },
  {
   "cell_type": "code",
   "execution_count": null,
   "id": "b510569d",
   "metadata": {
    "executionInfo": {
     "elapsed": 644,
     "status": "ok",
     "timestamp": 1642437543366,
     "user": {
      "displayName": "Андрей Качнов",
      "photoUrl": "https://lh3.googleusercontent.com/a/default-user=s64",
      "userId": "18101914706036263360"
     },
     "user_tz": -180
    },
    "id": "QYbOhGn5Cn8O",
    "outputId": "8a42f270-7370-405e-dd8c-2521b4d54e52",
    "papermill": {
     "duration": null,
     "end_time": null,
     "exception": null,
     "start_time": null,
     "status": "pending"
    },
    "tags": []
   },
   "outputs": [],
   "source": [
    "start_time = time.time()\n",
    "RD = Ridge(alpha=1.0)\n",
    "RD.fit(x_train,y_train)\n",
    "\n",
    "RD_predict_test = RD.predict(x_test)\n",
    "RD_predict_train = RD.predict(x_train)\n",
    "RD_test_MAE = mean_absolute_error(y_test, RD_predict_test)\n",
    "RD_train_MAE = mean_absolute_error(y_train, RD_predict_train)\n",
    "RD_test_RMSE = mean_squared_error(y_test, RD_predict_test)\n",
    "RD_train_RMSE = mean_squared_error(y_train, RD_predict_train)\n",
    "RD_train_score = RD.score(x_train,y_train)\n",
    "RD_test_score = RD.score(x_test,y_test)\n",
    "\n",
    "print(f'Train set mse: {RD_train_RMSE:.4f}')\n",
    "print(f'Test set mse: {RD_test_RMSE:.4f}', )\n",
    "print()\n",
    "print(f'Test set score: {RD_test_score:.4f}', )\n",
    "print(f'Train set score: {RD_train_score:.4f}')\n",
    "print()\n",
    "print(f\"Test mean absolute error {RD_test_MAE:.4f}\")\n",
    "print(f\"Train mean absolute error {RD_train_MAE:.4f}\")\n",
    "print()\n",
    "RD_time = time.time() - start_time\n",
    "print(f\"Время выполнения расчетов {RD_time:.4f}\")"
   ]
  },
  {
   "cell_type": "code",
   "execution_count": null,
   "id": "36d47e9f",
   "metadata": {
    "executionInfo": {
     "elapsed": 23,
     "status": "ok",
     "timestamp": 1642437546189,
     "user": {
      "displayName": "Андрей Качнов",
      "photoUrl": "https://lh3.googleusercontent.com/a/default-user=s64",
      "userId": "18101914706036263360"
     },
     "user_tz": -180
    },
    "id": "RCHWtKCPkxDR",
    "outputId": "6736432a-a8f6-4b25-b19c-a8397f9eb2a1",
    "papermill": {
     "duration": null,
     "end_time": null,
     "exception": null,
     "start_time": null,
     "status": "pending"
    },
    "tags": []
   },
   "outputs": [],
   "source": [
    "y_pred = RD.predict(X_test_scaled)\n",
    "df_pred = pd.DataFrame({'ID': id_col, 'item_cnt_month': y_pred })\n",
    "\n",
    "df_pred"
   ]
  },
  {
   "cell_type": "code",
   "execution_count": null,
   "id": "8e88882e",
   "metadata": {
    "executionInfo": {
     "elapsed": 46,
     "status": "aborted",
     "timestamp": 1642437498200,
     "user": {
      "displayName": "Андрей Качнов",
      "photoUrl": "https://lh3.googleusercontent.com/a/default-user=s64",
      "userId": "18101914706036263360"
     },
     "user_tz": -180
    },
    "id": "-Zauad2vk38G",
    "papermill": {
     "duration": null,
     "end_time": null,
     "exception": null,
     "start_time": null,
     "status": "pending"
    },
    "tags": []
   },
   "outputs": [],
   "source": [
    "# df_pred.to_csv('OUT_Ridge.csv', index=False)"
   ]
  },
  {
   "cell_type": "markdown",
   "id": "83dd82c1",
   "metadata": {
    "id": "2phEX7LEiO8M",
    "papermill": {
     "duration": null,
     "end_time": null,
     "exception": null,
     "start_time": null,
     "status": "pending"
    },
    "tags": []
   },
   "source": [
    "# <center>CatBoost</center>"
   ]
  },
  {
   "cell_type": "code",
   "execution_count": null,
   "id": "48cbfb01",
   "metadata": {
    "executionInfo": {
     "elapsed": 52824,
     "status": "ok",
     "timestamp": 1642437609418,
     "user": {
      "displayName": "Андрей Качнов",
      "photoUrl": "https://lh3.googleusercontent.com/a/default-user=s64",
      "userId": "18101914706036263360"
     },
     "user_tz": -180
    },
    "id": "ILC1RRUXibRh",
    "outputId": "4b11a388-adf7-4205-bef5-47c089436be2",
    "papermill": {
     "duration": null,
     "end_time": null,
     "exception": null,
     "start_time": null,
     "status": "pending"
    },
    "tags": []
   },
   "outputs": [],
   "source": [
    "start_time = time.time()\n",
    "\n",
    "cat = cb.CatBoostRegressor(\n",
    "                                depth = 4,\n",
    "                                l2_leaf_reg = 1,\n",
    "                                learning_rate = 0.03)\n",
    "\n",
    "cat.fit(x_train, y_train)\n",
    "\n",
    "сat_time = time.time() - start_time"
   ]
  },
  {
   "cell_type": "code",
   "execution_count": null,
   "id": "0dbdbcf4",
   "metadata": {
    "executionInfo": {
     "elapsed": 1338,
     "status": "ok",
     "timestamp": 1642437616887,
     "user": {
      "displayName": "Андрей Качнов",
      "photoUrl": "https://lh3.googleusercontent.com/a/default-user=s64",
      "userId": "18101914706036263360"
     },
     "user_tz": -180
    },
    "id": "DtIzaQxBvBuP",
    "outputId": "3fe34466-cefd-4f57-ec19-6ccc5a03c15c",
    "papermill": {
     "duration": null,
     "end_time": null,
     "exception": null,
     "start_time": null,
     "status": "pending"
    },
    "tags": []
   },
   "outputs": [],
   "source": [
    "cat_predict_test = cat.predict(x_test)\n",
    "cat_predict_train = cat.predict(x_train)\n",
    "cat_test_MAE = mean_absolute_error(y_test, cat_predict_test)\n",
    "cat_train_MAE = mean_absolute_error(y_train, cat_predict_train)\n",
    "cat_test_RMSE = mean_squared_error(y_test, cat_predict_test)\n",
    "cat_train_RMSE = mean_squared_error(y_train, cat_predict_train)\n",
    "cat_train_score = cat.score(x_train,y_train)\n",
    "cat_test_score = cat.score(x_test,y_test)\n",
    "\n",
    "print(f'Train set mse: {cat_train_RMSE:.4f}')\n",
    "print(f'Test set mse: {cat_test_RMSE:.4f}', )\n",
    "print()\n",
    "print(f'Test set score: {cat_test_score:.4f}', )\n",
    "print(f'Train set score: {cat_train_score:.4f}')\n",
    "print()\n",
    "print(f\"Test mean absolute error {cat_test_MAE:.4f}\")\n",
    "print(f\"Train mean absolute error {cat_train_MAE:.4f}\")\n",
    "print()\n",
    "\n",
    "print(f\"Время выполнения расчетов {сat_time:.4f}\")\n"
   ]
  },
  {
   "cell_type": "code",
   "execution_count": null,
   "id": "e7a59cd7",
   "metadata": {
    "executionInfo": {
     "elapsed": 62,
     "status": "aborted",
     "timestamp": 1642437498217,
     "user": {
      "displayName": "Андрей Качнов",
      "photoUrl": "https://lh3.googleusercontent.com/a/default-user=s64",
      "userId": "18101914706036263360"
     },
     "user_tz": -180
    },
    "id": "-IFeBTYRjYly",
    "papermill": {
     "duration": null,
     "end_time": null,
     "exception": null,
     "start_time": null,
     "status": "pending"
    },
    "tags": []
   },
   "outputs": [],
   "source": [
    "# y_pred = cat.predict(X_test)\n",
    "# df_pred = pd.DataFrame({'ID': id_col, 'item_cnt_month': y_pred })\n",
    "\n",
    "# df_pred\n",
    "# df_pred.to_csv('CatBoost.csv', index=False)"
   ]
  },
  {
   "cell_type": "markdown",
   "id": "56d31216",
   "metadata": {
    "id": "t3eKm5nvdp4M",
    "papermill": {
     "duration": null,
     "end_time": null,
     "exception": null,
     "start_time": null,
     "status": "pending"
    },
    "tags": []
   },
   "source": [
    "## <center>Summary plots</center>"
   ]
  },
  {
   "cell_type": "code",
   "execution_count": null,
   "id": "9feb3b6f",
   "metadata": {
    "executionInfo": {
     "elapsed": 790,
     "status": "ok",
     "timestamp": 1642437621683,
     "user": {
      "displayName": "Андрей Качнов",
      "photoUrl": "https://lh3.googleusercontent.com/a/default-user=s64",
      "userId": "18101914706036263360"
     },
     "user_tz": -180
    },
    "id": "q9W5cpOKdsE2",
    "outputId": "c8ba72f3-b326-432e-d979-cddaba44b1e1",
    "papermill": {
     "duration": null,
     "end_time": null,
     "exception": null,
     "start_time": null,
     "status": "pending"
    },
    "tags": []
   },
   "outputs": [],
   "source": [
    "index = [\"linear\\nregression\", \"Decision\\ntree\", \"Random\\nforest\", \"Lasso\", \"Ridge-Regression\", \"CatBoost\"]\n",
    "\n",
    "MSE_train = [LR_train_RMSE, DT_train_RMSE, RF_train_RMSE, lasso_train_RMSE, RD_train_RMSE, cat_train_RMSE]\n",
    "MSE_test = [LR_test_RMSE, DT_test_RMSE, RF_test_RMSE, lasso_test_RMSE, RD_test_RMSE, cat_test_RMSE]\n",
    "plt.figure(figsize=(15,10))\n",
    "plt.title('MSE of different methods')\n",
    "plt.ylabel(\"MSE\")\n",
    "plt.xlabel(\"Methods\")\n",
    "\n",
    "plt.bar(x=index, height=MSE_test, alpha = 0.5, color = \"#0000CD\", label = \"MSE test\")\n",
    "plt.bar(x=index, height=MSE_train, alpha = 0.5, color = \"#FFFF00\", label = \"MSE train\")\n",
    "plt.legend(loc = \"best\")\n",
    "\n",
    "\n",
    "plt.show()"
   ]
  },
  {
   "cell_type": "code",
   "execution_count": null,
   "id": "ca3b536f",
   "metadata": {
    "executionInfo": {
     "elapsed": 319,
     "status": "ok",
     "timestamp": 1642437626478,
     "user": {
      "displayName": "Андрей Качнов",
      "photoUrl": "https://lh3.googleusercontent.com/a/default-user=s64",
      "userId": "18101914706036263360"
     },
     "user_tz": -180
    },
    "id": "PRgESSfgGViV",
    "outputId": "8aba2939-7ad2-4a81-9ee8-1de907377365",
    "papermill": {
     "duration": null,
     "end_time": null,
     "exception": null,
     "start_time": null,
     "status": "pending"
    },
    "tags": []
   },
   "outputs": [],
   "source": [
    "index = [\"linear\\nregression\", \"Decision\\ntree\", \"Random\\nforest\", \"Lasso\", \"Ridge-Regression\", \"CatBoost\"]\n",
    "\n",
    "MAE_train = [LR_train_MAE, DT_train_MAE, RF_train_MAE, lasso_train_MAE, RD_train_MAE, cat_train_MAE]\n",
    "MAE_test = [LR_test_MAE, DT_test_MAE, RF_test_MAE, lasso_test_MAE, RD_test_MAE, cat_test_MAE]\n",
    "plt.figure(figsize=(15,10))\n",
    "plt.title('MAE of different methods')\n",
    "plt.ylabel(\"MАE\")\n",
    "plt.xlabel(\"Methods\")\n",
    "\n",
    "plt.bar(x=index, height=MAE_test, alpha = 0.5, color = \"#DA70D6\", label = \"MAE test\")\n",
    "plt.bar(x=index, height=MAE_train, alpha = 0.5, color = \"#FF4500\", label = \"MAE train\")\n",
    "plt.legend(loc = \"best\")\n",
    "\n",
    "\n",
    "plt.show()"
   ]
  },
  {
   "cell_type": "code",
   "execution_count": null,
   "id": "efb02b13",
   "metadata": {
    "executionInfo": {
     "elapsed": 326,
     "status": "ok",
     "timestamp": 1642437630798,
     "user": {
      "displayName": "Андрей Качнов",
      "photoUrl": "https://lh3.googleusercontent.com/a/default-user=s64",
      "userId": "18101914706036263360"
     },
     "user_tz": -180
    },
    "id": "I2nIkZ3VHFM-",
    "outputId": "f136a426-2f4b-4217-e640-dc24d1aa4134",
    "papermill": {
     "duration": null,
     "end_time": null,
     "exception": null,
     "start_time": null,
     "status": "pending"
    },
    "tags": []
   },
   "outputs": [],
   "source": [
    "index = [\"linear\\nregression\", \"Decision\\ntree\", \"Random\\nforest\", \"Lasso\", \"Ridge-Regression\", \"CatBoost\"]\n",
    "\n",
    "score_train = [LR_train_score, DT_train_score, RF_train_score, lasso_train_score, RD_train_score, cat_train_score]\n",
    "score_test = [LR_test_score, DT_test_score, RF_test_score, lasso_test_score, RD_test_score, cat_test_score]\n",
    "plt.figure(figsize=(15,10))\n",
    "plt.title('Presision score')\n",
    "plt.ylabel(\"score\")\n",
    "plt.xlabel(\"Methods\")\n",
    "\n",
    "plt.bar(x=index, height=score_test, alpha = 0.5, color = \"#00FFFF\", label = \"score test\")\n",
    "plt.bar(x=index, height=score_train, alpha = 0.5, color = \"#808080\", label = \"score train\")\n",
    "plt.legend(loc = \"best\")\n",
    "\n",
    "\n",
    "plt.show()"
   ]
  },
  {
   "cell_type": "markdown",
   "id": "11bd22fc",
   "metadata": {
    "id": "Q9PU69KIuvo0",
    "papermill": {
     "duration": null,
     "end_time": null,
     "exception": null,
     "start_time": null,
     "status": "pending"
    },
    "tags": []
   },
   "source": [
    "### <center>Time for calculation</center>"
   ]
  },
  {
   "cell_type": "code",
   "execution_count": null,
   "id": "fdd9ace8",
   "metadata": {
    "executionInfo": {
     "elapsed": 380,
     "status": "ok",
     "timestamp": 1642437688136,
     "user": {
      "displayName": "Андрей Качнов",
      "photoUrl": "https://lh3.googleusercontent.com/a/default-user=s64",
      "userId": "18101914706036263360"
     },
     "user_tz": -180
    },
    "id": "qguBZc85u643",
    "outputId": "371d434b-d7fa-434f-d9cb-9bab78bb6c3f",
    "papermill": {
     "duration": null,
     "end_time": null,
     "exception": null,
     "start_time": null,
     "status": "pending"
    },
    "tags": []
   },
   "outputs": [],
   "source": [
    "index = [\"linear\\nregression\", \"Decision\\ntree\", \"Random\\nforest\", \"Lasso\", \"Ridge-Regression\", \"CatBoost\"]\n",
    "\n",
    "work_time = [LR_time, DT_time, RF_time, lasso_time, RD_time, сat_time]\n",
    "# MSE_test = [2.02, 1.37, 2.32, 2.02]\n",
    "plt.figure(figsize=(15,10))\n",
    "plt.title('Time for calculation')\n",
    "plt.ylabel(\"Time, sec\")\n",
    "plt.xlabel(\"Methods\")\n",
    "\n",
    "plt.bar(x=index, height=work_time, alpha = 0.5, color = \"#0000CD\")\n",
    "# plt.bar(x=index, height=MSE_train, alpha = 0.5, color = \"#FFFF00\", label = \"MSE тренировочных данных\")\n",
    "plt.legend(loc = \"best\")\n",
    "\n",
    "plt.show()"
   ]
  }
 ],
 "metadata": {
  "kernelspec": {
   "display_name": "Python 3",
   "language": "python",
   "name": "python3"
  },
  "language_info": {
   "codemirror_mode": {
    "name": "ipython",
    "version": 3
   },
   "file_extension": ".py",
   "mimetype": "text/x-python",
   "name": "python",
   "nbconvert_exporter": "python",
   "pygments_lexer": "ipython3",
   "version": "3.7.12"
  },
  "papermill": {
   "default_parameters": {},
   "duration": 32.791662,
   "end_time": "2022-02-16T08:15:21.928506",
   "environment_variables": {},
   "exception": true,
   "input_path": "__notebook__.ipynb",
   "output_path": "__notebook__.ipynb",
   "parameters": {},
   "start_time": "2022-02-16T08:14:49.136844",
   "version": "2.3.3"
  }
 },
 "nbformat": 4,
 "nbformat_minor": 5
}
